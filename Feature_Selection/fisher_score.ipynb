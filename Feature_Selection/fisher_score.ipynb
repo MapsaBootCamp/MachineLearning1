{
 "metadata": {
  "language_info": {
   "codemirror_mode": {
    "name": "ipython",
    "version": 3
   },
   "file_extension": ".py",
   "mimetype": "text/x-python",
   "name": "python",
   "nbconvert_exporter": "python",
   "pygments_lexer": "ipython3",
   "version": "3.9.5-final"
  },
  "orig_nbformat": 2,
  "kernelspec": {
   "name": "python39564bitmapsamlconda10b77945f44745919e0053013b58747b",
   "display_name": "Python 3.9.5 64-bit ('mapsa-ml': conda)"
  }
 },
 "nbformat": 4,
 "nbformat_minor": 2,
 "cells": [
  {
   "cell_type": "code",
   "execution_count": 42,
   "metadata": {},
   "outputs": [],
   "source": [
    "import scipy.io\n",
    "from sklearn.model_selection import KFold, train_test_split\n",
    "from sklearn import svm\n",
    "from sklearn.metrics import accuracy_score\n",
    "from skfeature.function.similarity_based import fisher_score\n",
    "import numpy as np\n",
    "from sklearn.metrics import classification_report"
   ]
  },
  {
   "cell_type": "code",
   "execution_count": 43,
   "metadata": {},
   "outputs": [],
   "source": [
    "    # load data\n",
    "    mat = scipy.io.loadmat('COIL20.mat')\n",
    "    X = mat['X']    # data\n",
    "    X = X.astype(float)\n",
    "    y = mat['Y']    # label\n",
    "    y = y[:, 0]\n",
    "\n",
    "    X_train, X_test, y_train, y_test = train_test_split(X, y)\n",
    "\n",
    "    n_samples, n_features = X_train.shape    # number of samples and number of features\n",
    "\n",
    "    # split data into 10 folds\n",
    "    kf = KFold(n_splits=10, shuffle=True)\n",
    "    ss = kf.split(X_train)\n",
    "\n",
    "    # perform evaluation on classification task\n",
    "    num_fea = 100    # number of selected features\n"
   ]
  },
  {
   "cell_type": "code",
   "execution_count": 44,
   "metadata": {
    "tags": []
   },
   "outputs": [],
   "source": [
    "cv_models = []\n",
    "\n",
    "def feature_ranking(score):\n",
    "    \"\"\"\n",
    "    Rank features in descending order according to fisher score, the larger the fisher score, the      more important the\n",
    "    feature is\n",
    "    \"\"\"\n",
    "    idx = np.argsort(score, 0)\n",
    "    return idx[::-1]\n",
    "\n",
    "for train, test in ss:\n",
    "    clf = svm.LinearSVC()    # linear SVM\n",
    "    # obtain the score of each feature on the training set\n",
    "    score = fisher_score.fisher_score(X_train[train], y_train[train])\n",
    "\n",
    "\n",
    "\n",
    "    # rank features in descending order according to score\n",
    "    idx = feature_ranking(score)\n",
    "\n",
    "    # obtain the dataset on the selected features\n",
    "    selected_features = X_train[:, idx[0:num_fea]]\n",
    "\n",
    "    # train a classification model with the selected features on the training dataset\n",
    "    clf.fit(selected_features[train], y_train[train])\n",
    "\n",
    "    # predict the class labels of test data\n",
    "    y_predict = clf.predict(selected_features[test])\n",
    "\n",
    "    # obtain the classification accuracy on the test data\n",
    "    acc = accuracy_score(y_train[test], y_predict)\n",
    "    cv_models.append({\n",
    "        \"model\": clf,\n",
    "        \"score\": acc,\n",
    "        \"best_features\": idx[0:num_fea]\n",
    "    })\n"
   ]
  },
  {
   "cell_type": "code",
   "execution_count": 45,
   "metadata": {},
   "outputs": [
    {
     "output_type": "execute_result",
     "data": {
      "text/plain": "[{'model': LinearSVC(),\n  'score': 0.9814814814814815,\n  'best_features': array([   3,  881,  966, 1013,  991,  150,   23,  159,  392,  130,   84,\n          254,  504,  714,  777,  828,  858,  867,  880,  897,  892,  887,\n          857,  886,  926,  952,  977,  983,  925,  438,    4,    2,  202,\n         1011, 1020,  980,  148,   37,  140,  216,  117,  147,  210,  232,\n          227,  437,  570,  644,  684,  656,  662,  668,  710,  726,  764,\n          797,  869,  924,  939,  972,  971,  986,  955,    5,  938, 1021,\n         1018,  590,   76,  141,  261,  322,  215,  352,  433,  354,  223,\n          239,  545,  508,  571,  580,  490,  428,  391,  394,  393,  535,\n          741,  868,  920,  936,  950,  953,  981,  303,  945, 1023,  914,\n          287])},\n {'model': LinearSVC(),\n  'score': 0.9722222222222222,\n  'best_features': array([   4,  784,  914, 1012, 1000,  148,   18,  139,  357,   95,   62,\n          230,  516,  702,  739,  827,  858,  870,  878,  899,  903,  894,\n          865,  897,  935,  970,  981,  982,  929,  402,    5,    3,  211,\n         1009, 1019,  972,  144,   45,  138,  216,  114,  133,  214,  233,\n          231,  460,  609,  669,  693,  658,  654,  668,  717,  734,  749,\n          790,  872,  926,  942,  971,  977,  973,  924,    8,  951, 1021,\n         1020,  498,   93,  157,  261,  302,  217,  337,  450,  355,  223,\n          248,  586,  541,  560,  561,  485,  431,  396,  430,  452,  565,\n          732,  877,  919,  934,  945,  946,  978,  615,  989, 1023,  912,\n          299])},\n {'model': LinearSVC(),\n  'score': 0.9537037037037037,\n  'best_features': array([   0,  431,  931, 1010,  986,  114,   19,  143,  381,   97,   58,\n          221,  495,  705,  753,  819,  850,  858,  868,  896,  898,  884,\n          859,  892,  933,  965,  975,  979,  929,  490,    4,    3,  223,\n          985, 1019,  989,  140,   39,  145,  224,   94,  127,  193,  225,\n          236,  463,  610,  664,  680,  630,  615,  641,  703,  721,  747,\n          797,  875,  928,  943,  967,  988, 1000,  959,    6,  946, 1020,\n         1018,  549,   82,  151,  291,  305,  195,  327,  420,  350,  229,\n          265,  619,  563,  567,  539,  447,  379,  372,  392,  404,  511,\n          735,  877,  923,  937,  948,  960,  978,  652,  993, 1022,  911,\n          235])},\n {'model': LinearSVC(),\n  'score': 0.9537037037037037,\n  'best_features': array([   3,  889,  975, 1017,  987,  130,   18,  145,  384,  121,   77,\n          265,  586,  749,  810,  851,  869,  881,  888,  905,  903,  890,\n          863,  897,  930,  957,  961,  972,  924,  459,    4,    1,  222,\n         1013, 1021,  983,  124,   31,  120,  200,  105,  136,  203,  237,\n          240,  466,  636,  689,  720,  687,  690,  695,  730,  753,  768,\n          783,  866,  925,  937,  954,  971,  977,  947,    5,  941, 1020,\n         1018,  548,   66,  128,  243,  285,  199,  327,  424,  360,  219,\n          257,  624,  563,  593,  567,  492,  430,  403,  421,  423,  520,\n          707,  867,  917,  929,  939,  942,  964,  552,  978, 1022,  909,\n          234])},\n {'model': LinearSVC(),\n  'score': 0.9351851851851852,\n  'best_features': array([   3,  891,  960, 1015,  993,  168,   19,  149,  368,  114,   61,\n          219,  491,  695,  791,  834,  862,  865,  869,  892,  895,  887,\n          872,  903,  938,  971,  987,  981,  915,  172,    4,    2,  233,\n         1014, 1021,  979,  160,   43,  141,  213,  104,  130,  188,  206,\n          216,  463,  637,  669,  674,  620,  604,  630,  699,  749,  796,\n          818,  886,  930,  953,  985,  998, 1006,  944,    5,  945, 1020,\n         1018,  599,   98,  148,  251,  275,  201,  310,  408,  329,  212,\n          254,  625,  539,  547,  532,  439,  391,  376,  434,  472,  617,\n          795,  885,  924,  943,  959,  972,  986,  357,  977, 1022,  916,\n          271])},\n {'model': LinearSVC(),\n  'score': 0.9259259259259259,\n  'best_features': array([   3,  887,  945, 1008,  976,   74,   14,  119,  361,  115,   61,\n          212,  515,  734,  806,  850,  864,  868,  877,  896,  904,  891,\n          865,  893,  930,  965,  977,  960,  925,  461,    4,    2,  225,\n         1011, 1022,  968,   96,   24,  111,  201,  109,  116,  183,  208,\n          205,  455,  615,  661,  669,  644,  640,  649,  702,  747,  785,\n          813,  880,  932,  953,  975,  990,  997,  957,    5,  944, 1020,\n         1018,  479,   43,   85,  230,  276,  185,  287,  382,  320,  214,\n          243,  591,  518,  530,  537,  469,  418,  397,  429,  453,  602,\n          768,  888,  922,  941,  964,  963,  982,  616,  983, 1021,  906,\n          227])},\n {'model': LinearSVC(),\n  'score': 0.9166666666666666,\n  'best_features': array([   3,  887,  972, 1013,  994,  152,   20,  139,  359,   92,   64,\n          227,  578,  763,  804,  839,  866,  869,  874,  897,  901,  886,\n          853,  891,  928,  951,  962,  969,  916,  295,    4,    2,  216,\n         1014, 1020,  983,  146,   32,  130,  194,   84,  108,  196,  225,\n          231,  478,  627,  679,  700,  638,  629,  645,  688,  711,  744,\n          769,  862,  925,  942,  960,  970,  995,  963,    5,  948, 1021,\n         1019,  595,   69,  121,  232,  257,  188,  307,  434,  355,  215,\n          238,  608,  561,  567,  540,  448,  382,  381,  394,  400,  513,\n          693,  865,  915,  931,  943,  949,  985,  630,  984, 1022,  919,\n          247])},\n {'model': LinearSVC(),\n  'score': 0.9166666666666666,\n  'best_features': array([   3,  886,  971, 1017,  995,  168,   18,  128,  366,  119,   63,\n          211,  498,  687,  757,  824,  850,  859,  870,  900,  896,  878,\n          861,  895,  937,  963,  976,  979,  928,  462,    5,    2,    7,\n         1016, 1021,  984,  135,   31,  124,  198,  116,  143,  207,  236,\n          218,  417,  570,  635,  664,  593,  587,  628,  704,  744,  779,\n          811,  885,  934,  948,  972,  981,  991,  955,    6,  287, 1018,\n         1020,  523,   75,  132,  252,  301,  214,  339,  429,  361,  229,\n          231,  556,  495,  526,  515,  441,  369,  357,  399,  430,  574,\n          770,  882,  922,  935,  950,  949,  985,  537,  921, 1022,  904,\n          241])},\n {'model': LinearSVC(),\n  'score': 0.9074074074074074,\n  'best_features': array([   3,  871,  962, 1009,  984,  135,   16,   89,  301,   83,   53,\n          223,  551,  740,  770,  818,  850,  860,  874,  899,  901,  893,\n          872,  904,  938,  965,  979,  973,  907,  298,    4,    2,  180,\n         1013, 1021,  971,  114,   30,   78,  172,   91,  126,  193,  225,\n          222,  455,  610,  674,  689,  642,  646,  668,  712,  737,  778,\n          809,  886,  927,  945,  974,  981,  990,  948,    5,  942, 1020,\n         1018,  548,   60,   98,  198,  235,  190,  335,  432,  350,  221,\n          252,  614,  547,  577,  562,  463,  394,  371,  381,  415,  584,\n          771,  877,  920,  937,  951,  956,  980,  581,  975, 1022,  913,\n          247])},\n {'model': LinearSVC(),\n  'score': 0.9074074074074074,\n  'best_features': array([   3,  889,  969, 1015,  998,  159,   18,  134,  362,  112,   56,\n          218,  489,  695,  785,  837,  863,  873,  881,  900,  898,  883,\n          855,  882,  926,  956,  980,  984,  925,  484,    4,    2,  222,\n         1013, 1021,  991,  157,   39,  124,  198,  108,  127,  179,  209,\n          210,  464,  639,  686,  701,  669,  673,  680,  689,  702,  730,\n          764,  860,  923,  935,  966,  975,  989,  961,    6,  942, 1020,\n         1018,  619,   85,  143,  253,  304,  200,  331,  411,  334,  193,\n          247,  625,  571,  593,  581,  493,  414,  359,  371,  378,  502,\n          715,  865,  914,  932,  941,  946,  973,  644,  982, 1022,  918,\n          291])}]"
     },
     "metadata": {},
     "execution_count": 45
    }
   ],
   "source": [
    "cv_models = sorted(cv_models, key=lambda x: x[\"score\"], reverse=True)\n",
    "cv_models"
   ]
  },
  {
   "cell_type": "code",
   "execution_count": 46,
   "metadata": {},
   "outputs": [],
   "source": [
    "best_model = cv_models[0][\"model\"]\n",
    "best_fetures = cv_models[0][\"best_features\"]\n",
    "X_test_ = X_test[:, best_fetures]"
   ]
  },
  {
   "cell_type": "code",
   "execution_count": 47,
   "metadata": {},
   "outputs": [],
   "source": [
    "y_predict_ = best_model.predict(X_test_)"
   ]
  },
  {
   "cell_type": "code",
   "execution_count": 48,
   "metadata": {
    "tags": []
   },
   "outputs": [
    {
     "output_type": "stream",
     "name": "stdout",
     "text": "precision    recall  f1-score   support\n\n           1       0.00      0.00      0.00        23\n           2       0.00      0.00      0.00        12\n           3       0.04      0.04      0.04        24\n           4       0.00      0.00      0.00        15\n           5       0.08      0.20      0.12        15\n           6       0.00      0.00      0.00        25\n           7       0.50      0.21      0.30        14\n           8       0.49      1.00      0.66        19\n           9       0.04      0.22      0.07        18\n          10       0.00      0.00      0.00        17\n          11       0.00      0.00      0.00        24\n          12       0.00      0.00      0.00        16\n          13       0.00      0.00      0.00        15\n          14       0.00      0.00      0.00        19\n          15       0.00      0.00      0.00        14\n          16       0.00      0.00      0.00        21\n          17       0.00      0.00      0.00        22\n          18       0.14      0.40      0.20        15\n          19       0.00      0.00      0.00        14\n          20       0.00      0.00      0.00        18\n\n    accuracy                           0.10       360\n   macro avg       0.06      0.10      0.07       360\nweighted avg       0.06      0.10      0.07       360\n\n/home/ashkan/anaconda3/envs/mapsa-ml/lib/python3.9/site-packages/sklearn/metrics/_classification.py:1248: UndefinedMetricWarning: Precision and F-score are ill-defined and being set to 0.0 in labels with no predicted samples. Use `zero_division` parameter to control this behavior.\n  _warn_prf(average, modifier, msg_start, len(result))\n/home/ashkan/anaconda3/envs/mapsa-ml/lib/python3.9/site-packages/sklearn/metrics/_classification.py:1248: UndefinedMetricWarning: Precision and F-score are ill-defined and being set to 0.0 in labels with no predicted samples. Use `zero_division` parameter to control this behavior.\n  _warn_prf(average, modifier, msg_start, len(result))\n/home/ashkan/anaconda3/envs/mapsa-ml/lib/python3.9/site-packages/sklearn/metrics/_classification.py:1248: UndefinedMetricWarning: Precision and F-score are ill-defined and being set to 0.0 in labels with no predicted samples. Use `zero_division` parameter to control this behavior.\n  _warn_prf(average, modifier, msg_start, len(result))\n"
    }
   ],
   "source": [
    "print(classification_report(y_test, y_predict_))"
   ]
  }
 ]
}