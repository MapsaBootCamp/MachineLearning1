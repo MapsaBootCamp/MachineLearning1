{
 "cells": [
  {
   "cell_type": "code",
   "execution_count": 49,
   "id": "2f666525",
   "metadata": {},
   "outputs": [
    {
     "name": "stdout",
     "output_type": "stream",
     "text": [
      "[[ 0.61632735  1.6565876  -0.13205897 ... -2.32168879  1.11326299\n",
      "  -0.14336731]\n",
      " [ 0.9571649  -0.5704431   1.81259683 ... -0.28808763  1.18842186\n",
      "   0.71713557]\n",
      " [ 0.97136458  0.30908512  0.01565078 ... -0.21742846  0.60453865\n",
      "   0.85185961]\n",
      " ...\n",
      " [ 0.2499215  -1.17249045  1.19221198 ...  0.89880508 -0.6763081\n",
      "  -0.15075666]\n",
      " [ 0.08165273  0.03175412  0.01686629 ... -0.51508823  1.35608186\n",
      "   0.34618493]\n",
      " [-0.09479298 -0.1988123  -0.74200146 ... -1.2989628  -0.04485583\n",
      "  -0.16521986]] [0 0 0 ... 1 1 0]\n"
     ]
    },
    {
     "data": {
      "text/plain": [
       "0.9034"
      ]
     },
     "execution_count": 49,
     "metadata": {},
     "output_type": "execute_result"
    }
   ],
   "source": [
    "from sklearn.ensemble import AdaBoostClassifier\n",
    "from sklearn.svm import SVC\n",
    "from sklearn.tree import DecisionTreeClassifier\n",
    "from sklearn.model_selection import train_test_split\n",
    "from sklearn.datasets import make_classification\n",
    "X, y = make_classification(n_samples=100000, n_features=14,\n",
    "                           n_informative=2, n_redundant=0,\n",
    "                           random_state=0, shuffle=True)\n",
    "print(X, y)\n",
    "\n",
    "X_train, X_test, y_train, y_test = train_test_split(X, y)\n",
    "clf = AdaBoostClassifier(n_estimators=100, random_state=0, algorithm = \"SAMME\")\n",
    "clf.fit(X_train, y_train)\n",
    "\n",
    "clf.score(X_test, y_test)\n",
    "\n",
    "\n",
    "#TODO: chera injurie?(haminjuri ke ba rbf yejurie va ba linear unjurie)\n"
   ]
  },
  {
   "cell_type": "code",
   "execution_count": 50,
   "id": "033d183c",
   "metadata": {},
   "outputs": [
    {
     "data": {
      "text/plain": [
       "0.90024"
      ]
     },
     "execution_count": 50,
     "metadata": {},
     "output_type": "execute_result"
    }
   ],
   "source": [
    "svc_clf = SVC()\n",
    "svc_clf.fit(X_train, y_train)\n",
    "svc_clf.score(X_test, y_test)"
   ]
  },
  {
   "cell_type": "code",
   "execution_count": null,
   "id": "c532c69f",
   "metadata": {},
   "outputs": [],
   "source": []
  }
 ],
 "metadata": {
  "kernelspec": {
   "display_name": "Python 3 (ipykernel)",
   "language": "python",
   "name": "python3"
  },
  "language_info": {
   "codemirror_mode": {
    "name": "ipython",
    "version": 3
   },
   "file_extension": ".py",
   "mimetype": "text/x-python",
   "name": "python",
   "nbconvert_exporter": "python",
   "pygments_lexer": "ipython3",
   "version": "3.8.10"
  }
 },
 "nbformat": 4,
 "nbformat_minor": 5
}
