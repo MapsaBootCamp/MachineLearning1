{
 "cells": [
  {
   "cell_type": "code",
   "execution_count": 19,
   "source": [
    "from sklearn.datasets import load_iris\n",
    "from sklearn.decomposition import PCA\n",
    "from sklearn.model_selection import train_test_split\n",
    "from sklearn.preprocessing import StandardScaler\n",
    "from sklearn.neighbors import KNeighborsClassifier\n",
    "from sklearn.metrics import classification_report\n",
    "from scipy import io\n",
    "from sklearn.svm import SVC"
   ],
   "outputs": [],
   "metadata": {}
  },
  {
   "cell_type": "code",
   "execution_count": 20,
   "source": [
    "# data = load_iris()\n",
    "mat = io.loadmat(\"COIL20.mat\")\n",
    "X = mat[\"X\"]\n",
    "y = mat[\"Y\"]\n",
    "y = y[:, 0]"
   ],
   "outputs": [],
   "metadata": {}
  },
  {
   "cell_type": "code",
   "execution_count": 21,
   "source": [
    "X_train, X_test, y_train, y_test = train_test_split(X, y)"
   ],
   "outputs": [],
   "metadata": {}
  },
  {
   "cell_type": "code",
   "execution_count": 22,
   "source": [
    "# scale data before pca\n",
    "scaler = StandardScaler()\n",
    "X_train = scaler.fit_transform(X_train)\n",
    "X_test = scaler.transform(X_test)"
   ],
   "outputs": [],
   "metadata": {}
  },
  {
   "cell_type": "code",
   "execution_count": 23,
   "source": [
    "data_pca = PCA(n_components=10)\n",
    "pca_components = data_pca.fit(X_train)\n",
    "X_train = pca_components.fit_transform(X_train)\n",
    "# iris_features_after_pca_transform = pca_components.fit_transform(X_train)\n",
    "X_test = pca_components.transform(X_test)"
   ],
   "outputs": [],
   "metadata": {}
  },
  {
   "cell_type": "code",
   "execution_count": 24,
   "source": [
    "sum(pca_components.explained_variance_ratio_[:50])"
   ],
   "outputs": [
    {
     "output_type": "execute_result",
     "data": {
      "text/plain": [
       "0.6574672384362215"
      ]
     },
     "metadata": {},
     "execution_count": 24
    }
   ],
   "metadata": {}
  },
  {
   "cell_type": "code",
   "execution_count": 25,
   "source": [
    "svc_clf = SVC(kernel=\"linear\")\n",
    "svc_clf.fit(X_train, y_train)"
   ],
   "outputs": [
    {
     "output_type": "execute_result",
     "data": {
      "text/plain": [
       "SVC(kernel='linear')"
      ]
     },
     "metadata": {},
     "execution_count": 25
    }
   ],
   "metadata": {}
  },
  {
   "cell_type": "code",
   "execution_count": 26,
   "source": [
    "y_predict = svc_clf.predict(X_test)"
   ],
   "outputs": [],
   "metadata": {}
  },
  {
   "cell_type": "code",
   "execution_count": 27,
   "source": [
    "print(classification_report(y_test, y_predict))"
   ],
   "outputs": [
    {
     "output_type": "stream",
     "name": "stdout",
     "text": [
      "              precision    recall  f1-score   support\n",
      "\n",
      "           1       1.00      1.00      1.00        23\n",
      "           2       1.00      1.00      1.00        17\n",
      "           3       0.94      0.83      0.88        18\n",
      "           4       1.00      1.00      1.00        21\n",
      "           5       0.76      0.93      0.84        14\n",
      "           6       1.00      1.00      1.00        18\n",
      "           7       1.00      1.00      1.00        19\n",
      "           8       1.00      1.00      1.00        21\n",
      "           9       1.00      0.94      0.97        18\n",
      "          10       1.00      1.00      1.00        15\n",
      "          11       1.00      1.00      1.00        18\n",
      "          12       1.00      1.00      1.00        21\n",
      "          13       1.00      1.00      1.00        21\n",
      "          14       1.00      1.00      1.00        12\n",
      "          15       1.00      1.00      1.00        16\n",
      "          16       1.00      1.00      1.00        12\n",
      "          17       1.00      1.00      1.00        21\n",
      "          18       1.00      1.00      1.00        17\n",
      "          19       0.91      0.91      0.91        22\n",
      "          20       1.00      1.00      1.00        16\n",
      "\n",
      "    accuracy                           0.98       360\n",
      "   macro avg       0.98      0.98      0.98       360\n",
      "weighted avg       0.98      0.98      0.98       360\n",
      "\n"
     ]
    }
   ],
   "metadata": {}
  },
  {
   "cell_type": "code",
   "execution_count": 28,
   "source": [
    "import numpy as np"
   ],
   "outputs": [],
   "metadata": {}
  },
  {
   "cell_type": "code",
   "execution_count": 29,
   "source": [
    "np.linalg.eig(np.array([[2,0], [0,2]]))"
   ],
   "outputs": [
    {
     "output_type": "execute_result",
     "data": {
      "text/plain": [
       "(array([2., 2.]),\n",
       " array([[1., 0.],\n",
       "        [0., 1.]]))"
      ]
     },
     "metadata": {},
     "execution_count": 29
    }
   ],
   "metadata": {}
  },
  {
   "cell_type": "code",
   "execution_count": 31,
   "source": [
    "X = np.array([[1,0], [0,1], [0, -1], [-1, 0]])\n",
    "pca_mojtaba = PCA(n_components=2)\n",
    "X_pca = pca_mojtaba.fit(X)\n",
    "X_pca.explained_variance_ratio_"
   ],
   "outputs": [
    {
     "output_type": "execute_result",
     "data": {
      "text/plain": [
       "array([0.5, 0.5])"
      ]
     },
     "metadata": {},
     "execution_count": 31
    }
   ],
   "metadata": {}
  },
  {
   "cell_type": "code",
   "execution_count": null,
   "source": [],
   "outputs": [],
   "metadata": {}
  }
 ],
 "metadata": {
  "orig_nbformat": 4,
  "language_info": {
   "name": "python",
   "version": "3.8.10",
   "mimetype": "text/x-python",
   "codemirror_mode": {
    "name": "ipython",
    "version": 3
   },
   "pygments_lexer": "ipython3",
   "nbconvert_exporter": "python",
   "file_extension": ".py"
  },
  "kernelspec": {
   "name": "python3",
   "display_name": "Python 3.8.10 64-bit ('feture-selection': venv)"
  },
  "interpreter": {
   "hash": "257298eb60e59e6a21af5731dd34356371b91ad0d656114d88e97c4ec475b1e1"
  }
 },
 "nbformat": 4,
 "nbformat_minor": 2
}