{
  "nbformat": 4,
  "nbformat_minor": 0,
  "metadata": {
    "colab": {
      "name": "bitcoin_price_prediction.ipynb",
      "provenance": [],
      "collapsed_sections": []
    },
    "kernelspec": {
      "name": "python3",
      "display_name": "Python 3"
    },
    "accelerator": "GPU"
  },
  "cells": [
    {
      "cell_type": "code",
      "metadata": {
        "id": "XuCcZx1ufPNL"
      },
      "source": [
        "import pandas as pd\n",
        "import numpy as np\n",
        "import tensorflow as tf\n",
        "from tensorflow import keras"
      ],
      "execution_count": null,
      "outputs": []
    },
    {
      "cell_type": "code",
      "metadata": {
        "id": "rc21qSpqKCWg",
        "colab": {
          "base_uri": "https://localhost:8080/"
        },
        "outputId": "54e11a58-c726-40f2-dab4-48469ad2a92c"
      },
      "source": [
        "from google.colab import drive\n",
        "drive.mount('/content/drive')"
      ],
      "execution_count": null,
      "outputs": [
        {
          "output_type": "stream",
          "name": "stdout",
          "text": [
            "Mounted at /content/drive\n"
          ]
        }
      ]
    },
    {
      "cell_type": "code",
      "metadata": {
        "id": "O63DfugMf36O",
        "colab": {
          "base_uri": "https://localhost:8080/",
          "height": 309
        },
        "outputId": "50026bc5-8488-45aa-dbff-ec35c30bccec"
      },
      "source": [
        "df = pd.read_csv('/content/drive/My Drive/XBTUSD-1d-data.csv', parse_dates=[0])\n",
        "df.head()"
      ],
      "execution_count": null,
      "outputs": [
        {
          "output_type": "execute_result",
          "data": {
            "text/html": [
              "<div>\n",
              "<style scoped>\n",
              "    .dataframe tbody tr th:only-of-type {\n",
              "        vertical-align: middle;\n",
              "    }\n",
              "\n",
              "    .dataframe tbody tr th {\n",
              "        vertical-align: top;\n",
              "    }\n",
              "\n",
              "    .dataframe thead th {\n",
              "        text-align: right;\n",
              "    }\n",
              "</style>\n",
              "<table border=\"1\" class=\"dataframe\">\n",
              "  <thead>\n",
              "    <tr style=\"text-align: right;\">\n",
              "      <th></th>\n",
              "      <th>timestamp</th>\n",
              "      <th>symbol</th>\n",
              "      <th>open</th>\n",
              "      <th>high</th>\n",
              "      <th>low</th>\n",
              "      <th>close</th>\n",
              "      <th>trades</th>\n",
              "      <th>volume</th>\n",
              "      <th>vwap</th>\n",
              "      <th>lastSize</th>\n",
              "      <th>turnover</th>\n",
              "      <th>homeNotional</th>\n",
              "      <th>foreignNotional</th>\n",
              "    </tr>\n",
              "  </thead>\n",
              "  <tbody>\n",
              "    <tr>\n",
              "      <th>0</th>\n",
              "      <td>2015-09-26 00:00:00+00:00</td>\n",
              "      <td>XBTUSD</td>\n",
              "      <td>239.99</td>\n",
              "      <td>239.99</td>\n",
              "      <td>234.81</td>\n",
              "      <td>235.20</td>\n",
              "      <td>153</td>\n",
              "      <td>190090</td>\n",
              "      <td>235.910</td>\n",
              "      <td>24</td>\n",
              "      <td>44844188670</td>\n",
              "      <td>448.441887</td>\n",
              "      <td>105792.660735</td>\n",
              "    </tr>\n",
              "    <tr>\n",
              "      <th>1</th>\n",
              "      <td>2015-09-27 00:00:00+00:00</td>\n",
              "      <td>XBTUSD</td>\n",
              "      <td>235.20</td>\n",
              "      <td>235.36</td>\n",
              "      <td>232.91</td>\n",
              "      <td>234.51</td>\n",
              "      <td>146</td>\n",
              "      <td>258488</td>\n",
              "      <td>233.990</td>\n",
              "      <td>200</td>\n",
              "      <td>60483729840</td>\n",
              "      <td>604.837298</td>\n",
              "      <td>141526.710902</td>\n",
              "    </tr>\n",
              "    <tr>\n",
              "      <th>2</th>\n",
              "      <td>2015-09-28 00:00:00+00:00</td>\n",
              "      <td>XBTUSD</td>\n",
              "      <td>234.51</td>\n",
              "      <td>234.76</td>\n",
              "      <td>233.03</td>\n",
              "      <td>233.29</td>\n",
              "      <td>101</td>\n",
              "      <td>161013</td>\n",
              "      <td>233.550</td>\n",
              "      <td>1000</td>\n",
              "      <td>37604645900</td>\n",
              "      <td>376.046459</td>\n",
              "      <td>87825.998859</td>\n",
              "    </tr>\n",
              "    <tr>\n",
              "      <th>3</th>\n",
              "      <td>2015-09-29 00:00:00+00:00</td>\n",
              "      <td>XBTUSD</td>\n",
              "      <td>233.29</td>\n",
              "      <td>243.19</td>\n",
              "      <td>232.90</td>\n",
              "      <td>240.07</td>\n",
              "      <td>262</td>\n",
              "      <td>319143</td>\n",
              "      <td>237.981</td>\n",
              "      <td>50</td>\n",
              "      <td>75949944400</td>\n",
              "      <td>759.499444</td>\n",
              "      <td>180755.759328</td>\n",
              "    </tr>\n",
              "    <tr>\n",
              "      <th>4</th>\n",
              "      <td>2015-09-30 00:00:00+00:00</td>\n",
              "      <td>XBTUSD</td>\n",
              "      <td>240.07</td>\n",
              "      <td>241.50</td>\n",
              "      <td>235.81</td>\n",
              "      <td>237.00</td>\n",
              "      <td>285</td>\n",
              "      <td>368771</td>\n",
              "      <td>238.266</td>\n",
              "      <td>9000</td>\n",
              "      <td>87865511830</td>\n",
              "      <td>878.655118</td>\n",
              "      <td>209360.657739</td>\n",
              "    </tr>\n",
              "  </tbody>\n",
              "</table>\n",
              "</div>"
            ],
            "text/plain": [
              "                  timestamp  symbol  ...  homeNotional  foreignNotional\n",
              "0 2015-09-26 00:00:00+00:00  XBTUSD  ...    448.441887    105792.660735\n",
              "1 2015-09-27 00:00:00+00:00  XBTUSD  ...    604.837298    141526.710902\n",
              "2 2015-09-28 00:00:00+00:00  XBTUSD  ...    376.046459     87825.998859\n",
              "3 2015-09-29 00:00:00+00:00  XBTUSD  ...    759.499444    180755.759328\n",
              "4 2015-09-30 00:00:00+00:00  XBTUSD  ...    878.655118    209360.657739\n",
              "\n",
              "[5 rows x 13 columns]"
            ]
          },
          "metadata": {},
          "execution_count": 5
        }
      ]
    },
    {
      "cell_type": "code",
      "metadata": {
        "id": "8HeHSnHHgSf8",
        "colab": {
          "base_uri": "https://localhost:8080/",
          "height": 339
        },
        "outputId": "ad5b94e1-3c79-4651-d3db-1106fe5829de"
      },
      "source": [
        "df = df.drop_duplicates(subset=\"timestamp\", keep=\"first\")\n",
        "df = df.set_index(\"timestamp\").sort_index()\n",
        "df.head()"
      ],
      "execution_count": null,
      "outputs": [
        {
          "output_type": "execute_result",
          "data": {
            "text/html": [
              "<div>\n",
              "<style scoped>\n",
              "    .dataframe tbody tr th:only-of-type {\n",
              "        vertical-align: middle;\n",
              "    }\n",
              "\n",
              "    .dataframe tbody tr th {\n",
              "        vertical-align: top;\n",
              "    }\n",
              "\n",
              "    .dataframe thead th {\n",
              "        text-align: right;\n",
              "    }\n",
              "</style>\n",
              "<table border=\"1\" class=\"dataframe\">\n",
              "  <thead>\n",
              "    <tr style=\"text-align: right;\">\n",
              "      <th></th>\n",
              "      <th>symbol</th>\n",
              "      <th>open</th>\n",
              "      <th>high</th>\n",
              "      <th>low</th>\n",
              "      <th>close</th>\n",
              "      <th>trades</th>\n",
              "      <th>volume</th>\n",
              "      <th>vwap</th>\n",
              "      <th>lastSize</th>\n",
              "      <th>turnover</th>\n",
              "      <th>homeNotional</th>\n",
              "      <th>foreignNotional</th>\n",
              "    </tr>\n",
              "    <tr>\n",
              "      <th>timestamp</th>\n",
              "      <th></th>\n",
              "      <th></th>\n",
              "      <th></th>\n",
              "      <th></th>\n",
              "      <th></th>\n",
              "      <th></th>\n",
              "      <th></th>\n",
              "      <th></th>\n",
              "      <th></th>\n",
              "      <th></th>\n",
              "      <th></th>\n",
              "      <th></th>\n",
              "    </tr>\n",
              "  </thead>\n",
              "  <tbody>\n",
              "    <tr>\n",
              "      <th>2015-09-26 00:00:00+00:00</th>\n",
              "      <td>XBTUSD</td>\n",
              "      <td>239.99</td>\n",
              "      <td>239.99</td>\n",
              "      <td>234.81</td>\n",
              "      <td>235.20</td>\n",
              "      <td>153</td>\n",
              "      <td>190090</td>\n",
              "      <td>235.910</td>\n",
              "      <td>24</td>\n",
              "      <td>44844188670</td>\n",
              "      <td>448.441887</td>\n",
              "      <td>105792.660735</td>\n",
              "    </tr>\n",
              "    <tr>\n",
              "      <th>2015-09-27 00:00:00+00:00</th>\n",
              "      <td>XBTUSD</td>\n",
              "      <td>235.20</td>\n",
              "      <td>235.36</td>\n",
              "      <td>232.91</td>\n",
              "      <td>234.51</td>\n",
              "      <td>146</td>\n",
              "      <td>258488</td>\n",
              "      <td>233.990</td>\n",
              "      <td>200</td>\n",
              "      <td>60483729840</td>\n",
              "      <td>604.837298</td>\n",
              "      <td>141526.710902</td>\n",
              "    </tr>\n",
              "    <tr>\n",
              "      <th>2015-09-28 00:00:00+00:00</th>\n",
              "      <td>XBTUSD</td>\n",
              "      <td>234.51</td>\n",
              "      <td>234.76</td>\n",
              "      <td>233.03</td>\n",
              "      <td>233.29</td>\n",
              "      <td>101</td>\n",
              "      <td>161013</td>\n",
              "      <td>233.550</td>\n",
              "      <td>1000</td>\n",
              "      <td>37604645900</td>\n",
              "      <td>376.046459</td>\n",
              "      <td>87825.998859</td>\n",
              "    </tr>\n",
              "    <tr>\n",
              "      <th>2015-09-29 00:00:00+00:00</th>\n",
              "      <td>XBTUSD</td>\n",
              "      <td>233.29</td>\n",
              "      <td>243.19</td>\n",
              "      <td>232.90</td>\n",
              "      <td>240.07</td>\n",
              "      <td>262</td>\n",
              "      <td>319143</td>\n",
              "      <td>237.981</td>\n",
              "      <td>50</td>\n",
              "      <td>75949944400</td>\n",
              "      <td>759.499444</td>\n",
              "      <td>180755.759328</td>\n",
              "    </tr>\n",
              "    <tr>\n",
              "      <th>2015-09-30 00:00:00+00:00</th>\n",
              "      <td>XBTUSD</td>\n",
              "      <td>240.07</td>\n",
              "      <td>241.50</td>\n",
              "      <td>235.81</td>\n",
              "      <td>237.00</td>\n",
              "      <td>285</td>\n",
              "      <td>368771</td>\n",
              "      <td>238.266</td>\n",
              "      <td>9000</td>\n",
              "      <td>87865511830</td>\n",
              "      <td>878.655118</td>\n",
              "      <td>209360.657739</td>\n",
              "    </tr>\n",
              "  </tbody>\n",
              "</table>\n",
              "</div>"
            ],
            "text/plain": [
              "                           symbol    open  ...  homeNotional  foreignNotional\n",
              "timestamp                                  ...                               \n",
              "2015-09-26 00:00:00+00:00  XBTUSD  239.99  ...    448.441887    105792.660735\n",
              "2015-09-27 00:00:00+00:00  XBTUSD  235.20  ...    604.837298    141526.710902\n",
              "2015-09-28 00:00:00+00:00  XBTUSD  234.51  ...    376.046459     87825.998859\n",
              "2015-09-29 00:00:00+00:00  XBTUSD  233.29  ...    759.499444    180755.759328\n",
              "2015-09-30 00:00:00+00:00  XBTUSD  240.07  ...    878.655118    209360.657739\n",
              "\n",
              "[5 rows x 12 columns]"
            ]
          },
          "metadata": {},
          "execution_count": 6
        }
      ]
    },
    {
      "cell_type": "code",
      "metadata": {
        "colab": {
          "base_uri": "https://localhost:8080/"
        },
        "id": "jX1bzoLoUsiT",
        "outputId": "2804ff55-8ef0-49f7-bef5-3ea23b599bdc"
      },
      "source": [
        "df.index[0:10]"
      ],
      "execution_count": null,
      "outputs": [
        {
          "output_type": "execute_result",
          "data": {
            "text/plain": [
              "DatetimeIndex(['2015-09-26 00:00:00+00:00', '2015-09-27 00:00:00+00:00',\n",
              "               '2015-09-28 00:00:00+00:00', '2015-09-29 00:00:00+00:00',\n",
              "               '2015-09-30 00:00:00+00:00', '2015-10-01 00:00:00+00:00',\n",
              "               '2015-10-02 00:00:00+00:00', '2015-10-03 00:00:00+00:00',\n",
              "               '2015-10-04 00:00:00+00:00', '2015-10-05 00:00:00+00:00'],\n",
              "              dtype='datetime64[ns, UTC]', name='timestamp', freq=None)"
            ]
          },
          "metadata": {},
          "execution_count": 7
        }
      ]
    },
    {
      "cell_type": "code",
      "metadata": {
        "id": "G7BEBuCchT8I",
        "colab": {
          "base_uri": "https://localhost:8080/",
          "height": 233
        },
        "outputId": "eb5aaad1-7599-4202-9b9d-03d6c963f233"
      },
      "source": [
        "df = df[['open', 'high', 'low', 'close', 'volume']]\n",
        "df.head()"
      ],
      "execution_count": null,
      "outputs": [
        {
          "output_type": "execute_result",
          "data": {
            "text/html": [
              "<div>\n",
              "<style scoped>\n",
              "    .dataframe tbody tr th:only-of-type {\n",
              "        vertical-align: middle;\n",
              "    }\n",
              "\n",
              "    .dataframe tbody tr th {\n",
              "        vertical-align: top;\n",
              "    }\n",
              "\n",
              "    .dataframe thead th {\n",
              "        text-align: right;\n",
              "    }\n",
              "</style>\n",
              "<table border=\"1\" class=\"dataframe\">\n",
              "  <thead>\n",
              "    <tr style=\"text-align: right;\">\n",
              "      <th></th>\n",
              "      <th>open</th>\n",
              "      <th>high</th>\n",
              "      <th>low</th>\n",
              "      <th>close</th>\n",
              "      <th>volume</th>\n",
              "    </tr>\n",
              "    <tr>\n",
              "      <th>timestamp</th>\n",
              "      <th></th>\n",
              "      <th></th>\n",
              "      <th></th>\n",
              "      <th></th>\n",
              "      <th></th>\n",
              "    </tr>\n",
              "  </thead>\n",
              "  <tbody>\n",
              "    <tr>\n",
              "      <th>2015-09-26 00:00:00+00:00</th>\n",
              "      <td>239.99</td>\n",
              "      <td>239.99</td>\n",
              "      <td>234.81</td>\n",
              "      <td>235.20</td>\n",
              "      <td>190090</td>\n",
              "    </tr>\n",
              "    <tr>\n",
              "      <th>2015-09-27 00:00:00+00:00</th>\n",
              "      <td>235.20</td>\n",
              "      <td>235.36</td>\n",
              "      <td>232.91</td>\n",
              "      <td>234.51</td>\n",
              "      <td>258488</td>\n",
              "    </tr>\n",
              "    <tr>\n",
              "      <th>2015-09-28 00:00:00+00:00</th>\n",
              "      <td>234.51</td>\n",
              "      <td>234.76</td>\n",
              "      <td>233.03</td>\n",
              "      <td>233.29</td>\n",
              "      <td>161013</td>\n",
              "    </tr>\n",
              "    <tr>\n",
              "      <th>2015-09-29 00:00:00+00:00</th>\n",
              "      <td>233.29</td>\n",
              "      <td>243.19</td>\n",
              "      <td>232.90</td>\n",
              "      <td>240.07</td>\n",
              "      <td>319143</td>\n",
              "    </tr>\n",
              "    <tr>\n",
              "      <th>2015-09-30 00:00:00+00:00</th>\n",
              "      <td>240.07</td>\n",
              "      <td>241.50</td>\n",
              "      <td>235.81</td>\n",
              "      <td>237.00</td>\n",
              "      <td>368771</td>\n",
              "    </tr>\n",
              "  </tbody>\n",
              "</table>\n",
              "</div>"
            ],
            "text/plain": [
              "                             open    high     low   close  volume\n",
              "timestamp                                                        \n",
              "2015-09-26 00:00:00+00:00  239.99  239.99  234.81  235.20  190090\n",
              "2015-09-27 00:00:00+00:00  235.20  235.36  232.91  234.51  258488\n",
              "2015-09-28 00:00:00+00:00  234.51  234.76  233.03  233.29  161013\n",
              "2015-09-29 00:00:00+00:00  233.29  243.19  232.90  240.07  319143\n",
              "2015-09-30 00:00:00+00:00  240.07  241.50  235.81  237.00  368771"
            ]
          },
          "metadata": {},
          "execution_count": 8
        }
      ]
    },
    {
      "cell_type": "code",
      "metadata": {
        "id": "Zw1TFhuNh9pW"
      },
      "source": [
        "df['open'] = df['open'].fillna(method='bfill')\n",
        "df['high'] = df['high'].fillna(method='bfill')\n",
        "df['low'] = df['low'].fillna(method='bfill')\n",
        "df['close'] = df['close'].fillna(method='bfill')\n",
        "df['volume'] = df['volume'].fillna(value=0)"
      ],
      "execution_count": null,
      "outputs": []
    },
    {
      "cell_type": "code",
      "metadata": {
        "id": "Tm7LdrU-ihkC"
      },
      "source": [
        "df = df.dropna()"
      ],
      "execution_count": null,
      "outputs": []
    },
    {
      "cell_type": "code",
      "metadata": {
        "id": "SHd46__Wjmlm",
        "colab": {
          "base_uri": "https://localhost:8080/",
          "height": 202
        },
        "outputId": "939fef36-ecaf-4188-d694-d83b378327c9"
      },
      "source": [
        "#create new index\n",
        "data_idx = pd.date_range(start=df.index[0], end=df.index[-1], freq='D')\n",
        "df = df.reindex(data_idx, method=\"bfill\")\n",
        "df = df.sort_index(ascending=True)\n",
        "df.head()"
      ],
      "execution_count": null,
      "outputs": [
        {
          "output_type": "execute_result",
          "data": {
            "text/html": [
              "<div>\n",
              "<style scoped>\n",
              "    .dataframe tbody tr th:only-of-type {\n",
              "        vertical-align: middle;\n",
              "    }\n",
              "\n",
              "    .dataframe tbody tr th {\n",
              "        vertical-align: top;\n",
              "    }\n",
              "\n",
              "    .dataframe thead th {\n",
              "        text-align: right;\n",
              "    }\n",
              "</style>\n",
              "<table border=\"1\" class=\"dataframe\">\n",
              "  <thead>\n",
              "    <tr style=\"text-align: right;\">\n",
              "      <th></th>\n",
              "      <th>open</th>\n",
              "      <th>high</th>\n",
              "      <th>low</th>\n",
              "      <th>close</th>\n",
              "      <th>volume</th>\n",
              "    </tr>\n",
              "  </thead>\n",
              "  <tbody>\n",
              "    <tr>\n",
              "      <th>2015-09-26 00:00:00+00:00</th>\n",
              "      <td>239.99</td>\n",
              "      <td>239.99</td>\n",
              "      <td>234.81</td>\n",
              "      <td>235.20</td>\n",
              "      <td>190090</td>\n",
              "    </tr>\n",
              "    <tr>\n",
              "      <th>2015-09-27 00:00:00+00:00</th>\n",
              "      <td>235.20</td>\n",
              "      <td>235.36</td>\n",
              "      <td>232.91</td>\n",
              "      <td>234.51</td>\n",
              "      <td>258488</td>\n",
              "    </tr>\n",
              "    <tr>\n",
              "      <th>2015-09-28 00:00:00+00:00</th>\n",
              "      <td>234.51</td>\n",
              "      <td>234.76</td>\n",
              "      <td>233.03</td>\n",
              "      <td>233.29</td>\n",
              "      <td>161013</td>\n",
              "    </tr>\n",
              "    <tr>\n",
              "      <th>2015-09-29 00:00:00+00:00</th>\n",
              "      <td>233.29</td>\n",
              "      <td>243.19</td>\n",
              "      <td>232.90</td>\n",
              "      <td>240.07</td>\n",
              "      <td>319143</td>\n",
              "    </tr>\n",
              "    <tr>\n",
              "      <th>2015-09-30 00:00:00+00:00</th>\n",
              "      <td>240.07</td>\n",
              "      <td>241.50</td>\n",
              "      <td>235.81</td>\n",
              "      <td>237.00</td>\n",
              "      <td>368771</td>\n",
              "    </tr>\n",
              "  </tbody>\n",
              "</table>\n",
              "</div>"
            ],
            "text/plain": [
              "                             open    high     low   close  volume\n",
              "2015-09-26 00:00:00+00:00  239.99  239.99  234.81  235.20  190090\n",
              "2015-09-27 00:00:00+00:00  235.20  235.36  232.91  234.51  258488\n",
              "2015-09-28 00:00:00+00:00  234.51  234.76  233.03  233.29  161013\n",
              "2015-09-29 00:00:00+00:00  233.29  243.19  232.90  240.07  319143\n",
              "2015-09-30 00:00:00+00:00  240.07  241.50  235.81  237.00  368771"
            ]
          },
          "metadata": {},
          "execution_count": 11
        }
      ]
    },
    {
      "cell_type": "code",
      "metadata": {
        "id": "6fQy-kuymrUT",
        "colab": {
          "base_uri": "https://localhost:8080/",
          "height": 109
        },
        "outputId": "503ab9ca-b5f0-4a09-de5f-ab9105342262"
      },
      "source": [
        "# df = df['close']\n",
        "# df.head()\n",
        "print(df[0:4])"
      ],
      "execution_count": null,
      "outputs": [
        {
          "output_type": "stream",
          "text": [
            "                             open    high     low   close  volume\n",
            "2015-09-26 00:00:00+00:00  239.99  239.99  234.81  235.20  190090\n",
            "2015-09-27 00:00:00+00:00  235.20  235.36  232.91  234.51  258488\n",
            "2015-09-28 00:00:00+00:00  234.51  234.76  233.03  233.29  161013\n",
            "2015-09-29 00:00:00+00:00  233.29  243.19  232.90  240.07  319143\n"
          ],
          "name": "stdout"
        }
      ]
    },
    {
      "cell_type": "code",
      "metadata": {
        "id": "H1Y0pn2sj932"
      },
      "source": [
        "\n",
        "def normalize_zero_base(df):\n",
        "  return df / df.iloc[0] - 1\n",
        "\n",
        "\n",
        "def extract_window_data(df, window):\n",
        "  data = []\n",
        "  for idx in range(len(df)-window):\n",
        "    tmp = df[idx:(idx+window)].copy()\n",
        "    tmp = normalize_zero_base(tmp)\n",
        "    data.append(tmp.values)\n",
        "  return np.array(data)\n",
        "\n",
        "\n",
        "def prepare_data(df, window=15, test_size=0.2):\n",
        "  split_row = len(df) - int(test_size * len(df))\n",
        "  train_data = df.iloc[:split_row]\n",
        "  test_data = df.iloc[split_row:]\n",
        "\n",
        "  x_train = extract_window_data(train_data, window)\n",
        "  x_test = extract_window_data(test_data, window)\n",
        "\n",
        "  y_train = train_data['close'][window:].values\n",
        "  y_test = test_data['close'][window:].values\n",
        "\n",
        "  y_train = y_train / train_data[\"close\"][:-window].values - 1\n",
        "  y_test = y_test / test_data[\"close\"][:-window].values - 1\n",
        "\n",
        "  return train_data, test_data, x_train, y_train, x_test, y_test\n",
        "\n",
        "\n",
        "train_df, test_df, x_train, y_train, x_test, y_test = prepare_data(df, window=15, test_size=0.2)"
      ],
      "execution_count": null,
      "outputs": []
    },
    {
      "cell_type": "code",
      "metadata": {
        "id": "4jdn3mTD4up-",
        "colab": {
          "base_uri": "https://localhost:8080/"
        },
        "outputId": "4d8bc32e-1b69-4c8f-c78f-3358de5ee8ba"
      },
      "source": [
        "y_train[0]"
      ],
      "execution_count": null,
      "outputs": [
        {
          "output_type": "execute_result",
          "data": {
            "text/plain": [
              "0.04591836734693877"
            ]
          },
          "metadata": {},
          "execution_count": 13
        }
      ]
    },
    {
      "cell_type": "code",
      "metadata": {
        "id": "8XFDKZFVlMkW",
        "colab": {
          "base_uri": "https://localhost:8080/"
        },
        "outputId": "70986d34-8bc6-45d5-efe0-dfba8ba53f32"
      },
      "source": [
        "window = 15\n",
        "dropout = 0.2\n",
        "epochs = 20\n",
        "loss = 'mse'\n",
        "optimizer = 'adam'\n",
        "batch_size = 32\n",
        "\n",
        "model = keras.models.Sequential()\n",
        "model.add(keras.layers.LSTM(units=100, input_shape=(x_train.shape[1], x_train.shape[2])))\n",
        "model.add(keras.layers.Dropout(0.2))\n",
        "model.add(keras.layers.Dense(units=1))\n",
        "model.add(keras.layers.Activation('linear'))\n",
        "\n",
        "model.summary()"
      ],
      "execution_count": null,
      "outputs": [
        {
          "output_type": "stream",
          "name": "stdout",
          "text": [
            "Model: \"sequential\"\n",
            "_________________________________________________________________\n",
            " Layer (type)                Output Shape              Param #   \n",
            "=================================================================\n",
            " lstm (LSTM)                 (None, 100)               42400     \n",
            "                                                                 \n",
            " dropout (Dropout)           (None, 100)               0         \n",
            "                                                                 \n",
            " dense (Dense)               (None, 1)                 101       \n",
            "                                                                 \n",
            " activation (Activation)     (None, 1)                 0         \n",
            "                                                                 \n",
            "=================================================================\n",
            "Total params: 42,501\n",
            "Trainable params: 42,501\n",
            "Non-trainable params: 0\n",
            "_________________________________________________________________\n"
          ]
        }
      ]
    },
    {
      "cell_type": "code",
      "metadata": {
        "id": "RUC7jq_Xqfhh"
      },
      "source": [
        "model.compile(loss=loss, optimizer=optimizer)"
      ],
      "execution_count": null,
      "outputs": []
    },
    {
      "cell_type": "code",
      "metadata": {
        "id": "S65lqs6TsoMy",
        "colab": {
          "base_uri": "https://localhost:8080/"
        },
        "outputId": "cb6c6bda-345c-4ca8-fb58-73156a1a8f7e"
      },
      "source": [
        "y_train.shape\n",
        "x_train.shape"
      ],
      "execution_count": null,
      "outputs": [
        {
          "output_type": "execute_result",
          "data": {
            "text/plain": [
              "(1354, 15, 5)"
            ]
          },
          "metadata": {},
          "execution_count": 16
        }
      ]
    },
    {
      "cell_type": "code",
      "metadata": {
        "id": "RSIuLa1Grrwd",
        "colab": {
          "base_uri": "https://localhost:8080/"
        },
        "outputId": "8f121f99-52c5-4512-b663-2f6a60918f8f"
      },
      "source": [
        "history = model.fit(x_train, y_train, epochs=epochs, batch_size=batch_size, verbose=1, shuffle=True)"
      ],
      "execution_count": null,
      "outputs": [
        {
          "output_type": "stream",
          "name": "stdout",
          "text": [
            "Epoch 1/20\n",
            "43/43 [==============================] - 7s 7ms/step - loss: 0.0185\n",
            "Epoch 2/20\n",
            "43/43 [==============================] - 0s 7ms/step - loss: 0.0077\n",
            "Epoch 3/20\n",
            "43/43 [==============================] - 0s 7ms/step - loss: 0.0064\n",
            "Epoch 4/20\n",
            "43/43 [==============================] - 0s 7ms/step - loss: 0.0057\n",
            "Epoch 5/20\n",
            "43/43 [==============================] - 0s 7ms/step - loss: 0.0050\n",
            "Epoch 6/20\n",
            "43/43 [==============================] - 0s 7ms/step - loss: 0.0047\n",
            "Epoch 7/20\n",
            "43/43 [==============================] - 0s 7ms/step - loss: 0.0048\n",
            "Epoch 8/20\n",
            "43/43 [==============================] - 0s 7ms/step - loss: 0.0043\n",
            "Epoch 9/20\n",
            "43/43 [==============================] - 0s 7ms/step - loss: 0.0039\n",
            "Epoch 10/20\n",
            "43/43 [==============================] - 0s 7ms/step - loss: 0.0037\n",
            "Epoch 11/20\n",
            "43/43 [==============================] - 0s 7ms/step - loss: 0.0036\n",
            "Epoch 12/20\n",
            "43/43 [==============================] - 0s 7ms/step - loss: 0.0036\n",
            "Epoch 13/20\n",
            "43/43 [==============================] - 0s 7ms/step - loss: 0.0035\n",
            "Epoch 14/20\n",
            "43/43 [==============================] - 0s 7ms/step - loss: 0.0032\n",
            "Epoch 15/20\n",
            "43/43 [==============================] - 0s 7ms/step - loss: 0.0033\n",
            "Epoch 16/20\n",
            "43/43 [==============================] - 0s 7ms/step - loss: 0.0032\n",
            "Epoch 17/20\n",
            "43/43 [==============================] - 0s 7ms/step - loss: 0.0035\n",
            "Epoch 18/20\n",
            "43/43 [==============================] - 0s 7ms/step - loss: 0.0032\n",
            "Epoch 19/20\n",
            "43/43 [==============================] - 0s 7ms/step - loss: 0.0030\n",
            "Epoch 20/20\n",
            "43/43 [==============================] - 0s 7ms/step - loss: 0.0030\n"
          ]
        }
      ]
    },
    {
      "cell_type": "code",
      "metadata": {
        "id": "aj_mqdyIsVct"
      },
      "source": [
        "preds = model.predict(x_test).squeeze()\n",
        "preds = test_df['close'].values[:-window] * (preds + 1)\n"
      ],
      "execution_count": null,
      "outputs": []
    },
    {
      "cell_type": "code",
      "metadata": {
        "id": "wuoRlhZvvhJ5"
      },
      "source": [
        "from sklearn.metrics import mean_absolute_error"
      ],
      "execution_count": null,
      "outputs": []
    },
    {
      "cell_type": "code",
      "metadata": {
        "id": "qGwvBR4QvrOE",
        "colab": {
          "base_uri": "https://localhost:8080/"
        },
        "outputId": "c50601ca-a4dc-4367-a9c2-42dc28c4c7a6"
      },
      "source": [
        "print(mean_absolute_error(preds, y_test))\n"
      ],
      "execution_count": null,
      "outputs": [
        {
          "output_type": "stream",
          "name": "stdout",
          "text": [
            "8687.602645746421\n"
          ]
        }
      ]
    },
    {
      "cell_type": "code",
      "metadata": {
        "id": "1h1ikiWivz8k",
        "colab": {
          "base_uri": "https://localhost:8080/",
          "height": 283
        },
        "outputId": "6fcc15c0-4f89-4a37-b846-2884f84e96ef"
      },
      "source": [
        "import matplotlib.pyplot as plt\n",
        "\n",
        "targets = test_df['close'][window:]\n",
        "preds = pd.Series(index=targets.index, data=preds)\n",
        "\n",
        "fig, ax = plt.subplots(1)\n",
        "ax.plot(preds[100:150], label='output')\n",
        "ax.plot(targets[100:150], label='target')\n",
        "plt.show"
      ],
      "execution_count": null,
      "outputs": [
        {
          "output_type": "execute_result",
          "data": {
            "text/plain": [
              "<function matplotlib.pyplot.show>"
            ]
          },
          "metadata": {},
          "execution_count": 23
        },
        {
          "output_type": "display_data",
          "data": {
            "image/png": "[encoded data removed]",
            "text/plain": [
              "<Figure size 432x288 with 1 Axes>"
            ]
          },
          "metadata": {
            "needs_background": "light"
          }
        }
      ]
    }
  ]
}