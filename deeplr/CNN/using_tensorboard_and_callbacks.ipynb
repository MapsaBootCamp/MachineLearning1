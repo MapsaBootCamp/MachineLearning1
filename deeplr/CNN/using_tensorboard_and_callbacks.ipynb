{
  "nbformat": 4,
  "nbformat_minor": 0,
  "metadata": {
    "colab": {
      "name": "using_tensorboard_and_callbacks.ipynb",
      "provenance": []
    },
    "kernelspec": {
      "name": "python3",
      "display_name": "Python 3"
    },
    "language_info": {
      "name": "python"
    },
    "accelerator": "GPU"
  },
  "cells": [
    {
      "cell_type": "code",
      "metadata": {
        "id": "CySZQ0dyoT9s"
      },
      "source": [
        "import tensorflow as tf\n",
        "from tensorflow import keras\n",
        "from tensorflow.keras.utils import plot_model\n",
        "from tensorflow.keras import models"
      ],
      "execution_count": null,
      "outputs": []
    },
    {
      "cell_type": "code",
      "metadata": {
        "colab": {
          "base_uri": "https://localhost:8080/"
        },
        "id": "QhgEw0teofaS",
        "outputId": "79a260af-8c35-49f2-e439-38f465dcec9a"
      },
      "source": [
        "#load fashin mnist dataset\n",
        "(training_images, training_labels), (test_images, test_labels) = keras.datasets.fashion_mnist.load_data()\n",
        "print(training_images.shape)\n",
        "\n",
        "#reshape\n",
        "training_images = training_images.reshape(training_images.shape[0], 28,28,1)\n",
        "test_images = test_images.reshape(test_images.shape[0], 28,28,1)\n",
        "print(training_images.shape)\n"
      ],
      "execution_count": null,
      "outputs": [
        {
          "output_type": "stream",
          "name": "stdout",
          "text": [
            "Downloading data from https://storage.googleapis.com/tensorflow/tf-keras-datasets/train-labels-idx1-ubyte.gz\n",
            "32768/29515 [=================================] - 0s 0us/step\n",
            "40960/29515 [=========================================] - 0s 0us/step\n",
            "Downloading data from https://storage.googleapis.com/tensorflow/tf-keras-datasets/train-images-idx3-ubyte.gz\n",
            "26427392/26421880 [==============================] - 0s 0us/step\n",
            "26435584/26421880 [==============================] - 0s 0us/step\n",
            "Downloading data from https://storage.googleapis.com/tensorflow/tf-keras-datasets/t10k-labels-idx1-ubyte.gz\n",
            "16384/5148 [===============================================================================================] - 0s 0us/step\n",
            "Downloading data from https://storage.googleapis.com/tensorflow/tf-keras-datasets/t10k-images-idx3-ubyte.gz\n",
            "4423680/4422102 [==============================] - 0s 0us/step\n",
            "4431872/4422102 [==============================] - 0s 0us/step\n",
            "(60000, 28, 28)\n",
            "(60000, 28, 28, 1)\n"
          ]
        }
      ]
    },
    {
      "cell_type": "code",
      "metadata": {
        "colab": {
          "base_uri": "https://localhost:8080/",
          "height": 1000
        },
        "id": "vMR_GpOyokIX",
        "outputId": "fcb3a523-536e-4455-8827-767f893366c1"
      },
      "source": [
        "#define model\n",
        "def get_model_cnn():\n",
        "  model_cnn = tf.keras.models.Sequential(name=\"cnn_model\")\n",
        "  model_cnn.add(keras.layers.Conv2D(32, (3,3), activation='relu', input_shape=(28,28,1)))\n",
        "  model_cnn.add(keras.layers.MaxPooling2D(2,2))\n",
        "  model_cnn.add(keras.layers.Conv2D(64, (3,3), activation='relu'))\n",
        "  model_cnn.add(keras.layers.MaxPooling2D((2,2)))\n",
        "  model_cnn.add(tf.keras.layers.Flatten())\n",
        "  model_cnn.add(tf.keras.layers.Dense(128, activation=keras.activations.relu))\n",
        "  model_cnn.add(tf.keras.layers.Dense(10, activation='softmax'))\n",
        "\n",
        "  model_cnn.compile(optimizer='adam', loss=keras.losses.sparse_categorical_crossentropy, metrics=['accuracy'])\n",
        "\n",
        "  return model_cnn\n",
        "\n",
        "model_cnn = get_model_cnn()\n",
        "model_cnn.summary()\n",
        "plot_model(model_cnn, to_file=\"model_fc.png\")"
      ],
      "execution_count": null,
      "outputs": [
        {
          "output_type": "stream",
          "name": "stdout",
          "text": [
            "Model: \"cnn_model\"\n",
            "_________________________________________________________________\n",
            " Layer (type)                Output Shape              Param #   \n",
            "=================================================================\n",
            " conv2d (Conv2D)             (None, 26, 26, 32)        320       \n",
            "                                                                 \n",
            " max_pooling2d (MaxPooling2D  (None, 13, 13, 32)       0         \n",
            " )                                                               \n",
            "                                                                 \n",
            " conv2d_1 (Conv2D)           (None, 11, 11, 64)        18496     \n",
            "                                                                 \n",
            " max_pooling2d_1 (MaxPooling  (None, 5, 5, 64)         0         \n",
            " 2D)                                                             \n",
            "                                                                 \n",
            " flatten (Flatten)           (None, 1600)              0         \n",
            "                                                                 \n",
            " dense (Dense)               (None, 128)               204928    \n",
            "                                                                 \n",
            " dense_1 (Dense)             (None, 10)                1290      \n",
            "                                                                 \n",
            "=================================================================\n",
            "Total params: 225,034\n",
            "Trainable params: 225,034\n",
            "Non-trainable params: 0\n",
            "_________________________________________________________________\n"
          ]
        },
        {
          "output_type": "execute_result",
          "data": {
            "image/png": "[encoded data removed]",
            "text/plain": [
              "<IPython.core.display.Image object>"
            ]
          },
          "metadata": {},
          "execution_count": 3
        }
      ]
    },
    {
      "cell_type": "code",
      "metadata": {
        "id": "kNWB756yom3s"
      },
      "source": [
        "tensorboard_callback = tf.keras.callbacks.TensorBoard(\n",
        "    log_dir='logs', histogram_freq=1, write_graph=True,\n",
        "    write_images=True, write_steps_per_second=False, update_freq='epoch'\n",
        ")\n",
        "\n",
        "def scheduler(epoch, lr):\n",
        "  new_lr = lr\n",
        "  if epoch < 1:\n",
        "    new_lr = lr\n",
        "  else:\n",
        "    new_lr = lr * tf.math.exp(-0.1)\n",
        "\n",
        "  with tf.summary.create_file_writer('logs/lr').as_default():\n",
        "    tf.summary.scalar(\"learning_rate\", new_lr, step=epoch)\n",
        "\n",
        "  return new_lr\n",
        "\n",
        "\n",
        "\n",
        "lr_callback = tf.keras.callbacks.LearningRateScheduler(scheduler)\n",
        "\n",
        "checkpoint_filepath = 'checkpoint'\n",
        "\n",
        "model_checkpoint_callback = tf.keras.callbacks.ModelCheckpoint(\n",
        "    filepath=checkpoint_filepath,\n",
        "    save_weights_only=False,\n",
        "    monitor='val_accuracy',\n",
        "    mode='max',\n",
        "    save_best_only=True)"
      ],
      "execution_count": null,
      "outputs": []
    },
    {
      "cell_type": "code",
      "metadata": {
        "colab": {
          "base_uri": "https://localhost:8080/"
        },
        "id": "XRiCk5fZppAY",
        "outputId": "aaca745f-dc5d-40c0-fe6e-b8cf4234023d"
      },
      "source": [
        "history =model_cnn.fit(training_images, training_labels, epochs=20, validation_data=(test_images, test_labels), callbacks=[tensorboard_callback, lr_callback, model_checkpoint_callback])"
      ],
      "execution_count": null,
      "outputs": [
        {
          "output_type": "stream",
          "name": "stdout",
          "text": [
            "Epoch 1/20\n",
            "1868/1875 [============================>.] - ETA: 0s - loss: 0.3081 - accuracy: 0.8864INFO:tensorflow:Assets written to: checkpoint/assets\n",
            "1875/1875 [==============================] - 13s 7ms/step - loss: 0.3080 - accuracy: 0.8863 - val_loss: 0.3295 - val_accuracy: 0.8802 - lr: 0.0010\n",
            "Epoch 2/20\n",
            "1867/1875 [============================>.] - ETA: 0s - loss: 0.2714 - accuracy: 0.8985INFO:tensorflow:Assets written to: checkpoint/assets\n",
            "1875/1875 [==============================] - 13s 7ms/step - loss: 0.2714 - accuracy: 0.8985 - val_loss: 0.3040 - val_accuracy: 0.8923 - lr: 9.0484e-04\n",
            "Epoch 3/20\n",
            "1866/1875 [============================>.] - ETA: 0s - loss: 0.2423 - accuracy: 0.9090INFO:tensorflow:Assets written to: checkpoint/assets\n",
            "1875/1875 [==============================] - 13s 7ms/step - loss: 0.2423 - accuracy: 0.9090 - val_loss: 0.3178 - val_accuracy: 0.8963 - lr: 8.1873e-04\n",
            "Epoch 4/20\n",
            "1875/1875 [==============================] - 12s 6ms/step - loss: 0.2167 - accuracy: 0.9190 - val_loss: 0.3210 - val_accuracy: 0.8888 - lr: 7.4082e-04\n",
            "Epoch 5/20\n",
            "1875/1875 [==============================] - 12s 6ms/step - loss: 0.1912 - accuracy: 0.9276 - val_loss: 0.3281 - val_accuracy: 0.8920 - lr: 6.7032e-04\n",
            "Epoch 6/20\n",
            "1870/1875 [============================>.] - ETA: 0s - loss: 0.1653 - accuracy: 0.9376INFO:tensorflow:Assets written to: checkpoint/assets\n",
            "1875/1875 [==============================] - 13s 7ms/step - loss: 0.1654 - accuracy: 0.9375 - val_loss: 0.3153 - val_accuracy: 0.9032 - lr: 6.0653e-04\n",
            "Epoch 7/20\n",
            "1875/1875 [==============================] - 12s 6ms/step - loss: 0.1456 - accuracy: 0.9440 - val_loss: 0.3265 - val_accuracy: 0.9000 - lr: 5.4881e-04\n",
            "Epoch 8/20\n",
            "1875/1875 [==============================] - 12s 6ms/step - loss: 0.1251 - accuracy: 0.9531 - val_loss: 0.3628 - val_accuracy: 0.8973 - lr: 4.9659e-04\n",
            "Epoch 9/20\n",
            "1875/1875 [==============================] - ETA: 0s - loss: 0.1063 - accuracy: 0.9591INFO:tensorflow:Assets written to: checkpoint/assets\n",
            "1875/1875 [==============================] - 13s 7ms/step - loss: 0.1063 - accuracy: 0.9591 - val_loss: 0.3676 - val_accuracy: 0.9058 - lr: 4.4933e-04\n",
            "Epoch 10/20\n",
            "1875/1875 [==============================] - 12s 6ms/step - loss: 0.0897 - accuracy: 0.9653 - val_loss: 0.4243 - val_accuracy: 0.8983 - lr: 4.0657e-04\n",
            "Epoch 11/20\n",
            "1875/1875 [==============================] - 12s 6ms/step - loss: 0.0793 - accuracy: 0.9703 - val_loss: 0.4209 - val_accuracy: 0.9047 - lr: 3.6788e-04\n",
            "Epoch 12/20\n",
            "1875/1875 [==============================] - 12s 6ms/step - loss: 0.0642 - accuracy: 0.9760 - val_loss: 0.4751 - val_accuracy: 0.9047 - lr: 3.3287e-04\n",
            "Epoch 13/20\n",
            "1875/1875 [==============================] - 12s 6ms/step - loss: 0.0548 - accuracy: 0.9794 - val_loss: 0.5044 - val_accuracy: 0.9002 - lr: 3.0119e-04\n",
            "Epoch 14/20\n",
            "1875/1875 [==============================] - 12s 6ms/step - loss: 0.0438 - accuracy: 0.9844 - val_loss: 0.5224 - val_accuracy: 0.9035 - lr: 2.7253e-04\n",
            "Epoch 15/20\n",
            "1875/1875 [==============================] - 12s 6ms/step - loss: 0.0362 - accuracy: 0.9874 - val_loss: 0.5779 - val_accuracy: 0.9021 - lr: 2.4660e-04\n",
            "Epoch 16/20\n",
            "1875/1875 [==============================] - 12s 6ms/step - loss: 0.0292 - accuracy: 0.9899 - val_loss: 0.5941 - val_accuracy: 0.9041 - lr: 2.2313e-04\n",
            "Epoch 17/20\n",
            "1875/1875 [==============================] - 12s 6ms/step - loss: 0.0226 - accuracy: 0.9922 - val_loss: 0.6307 - val_accuracy: 0.9038 - lr: 2.0190e-04\n",
            "Epoch 18/20\n",
            "1875/1875 [==============================] - 12s 6ms/step - loss: 0.0180 - accuracy: 0.9945 - val_loss: 0.6798 - val_accuracy: 0.9011 - lr: 1.8268e-04\n",
            "Epoch 19/20\n",
            "1875/1875 [==============================] - 12s 6ms/step - loss: 0.0142 - accuracy: 0.9958 - val_loss: 0.7465 - val_accuracy: 0.9038 - lr: 1.6530e-04\n",
            "Epoch 20/20\n",
            "1875/1875 [==============================] - 12s 6ms/step - loss: 0.0107 - accuracy: 0.9969 - val_loss: 0.7659 - val_accuracy: 0.9024 - lr: 1.4957e-04\n"
          ]
        }
      ]
    },
    {
      "cell_type": "code",
      "metadata": {
        "id": "WdgMdH0CtQOu"
      },
      "source": [
        "%load_ext tensorboard"
      ],
      "execution_count": null,
      "outputs": []
    },
    {
      "cell_type": "code",
      "metadata": {
        "colab": {
          "base_uri": "https://localhost:8080/",
          "height": 821
        },
        "id": "xnZl9ea4vDtM",
        "outputId": "8c6fb6be-b3e4-4401-8d72-3b67e7fb80e5"
      },
      "source": [
        "%tensorboard --logdir=/content/logs"
      ],
      "execution_count": null,
      "outputs": [
        {
          "output_type": "display_data",
          "data": {
            "application/javascript": [
              "\n",
              "        (async () => {\n",
              "            const url = new URL(await google.colab.kernel.proxyPort(6006, {'cache': true}));\n",
              "            url.searchParams.set('tensorboardColab', 'true');\n",
              "            const iframe = document.createElement('iframe');\n",
              "            iframe.src = url;\n",
              "            iframe.setAttribute('width', '100%');\n",
              "            iframe.setAttribute('height', '800');\n",
              "            iframe.setAttribute('frameborder', 0);\n",
              "            document.body.appendChild(iframe);\n",
              "        })();\n",
              "    "
            ],
            "text/plain": [
              "<IPython.core.display.Javascript object>"
            ]
          },
          "metadata": {}
        }
      ]
    },
    {
      "cell_type": "code",
      "metadata": {
        "id": "CQVAMF5RvPyH"
      },
      "source": [
        ""
      ],
      "execution_count": null,
      "outputs": []
    }
  ]
}