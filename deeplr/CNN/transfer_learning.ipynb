{
  "nbformat": 4,
  "nbformat_minor": 0,
  "metadata": {
    "colab": {
      "name": "transfer_learning.ipynb",
      "provenance": []
    },
    "kernelspec": {
      "name": "python3",
      "display_name": "Python 3"
    },
    "language_info": {
      "name": "python"
    },
    "accelerator": "GPU"
  },
  "cells": [
    {
      "cell_type": "code",
      "metadata": {
        "id": "KEnhbpyKPVw3"
      },
      "source": [
        "import tensorflow as tf\n",
        "from tensorflow import keras\n",
        "from tensorflow.keras.utils import plot_model\n",
        "from tensorflow.keras import models"
      ],
      "execution_count": 1,
      "outputs": []
    },
    {
      "cell_type": "code",
      "metadata": {
        "colab": {
          "base_uri": "https://localhost:8080/"
        },
        "id": "wF5zYNEUPsUR",
        "outputId": "7dc485ba-0087-4791-933a-d0ad9b0872cb"
      },
      "source": [
        "#load cifar10 dataset\n",
        "(training_images, training_labels), (test_images, test_labels) = keras.datasets.cifar10.load_data()\n",
        "print(training_images.shape)\n",
        "\n",
        "training_images = training_images.astype('float32')\n",
        "test_images = test_images.astype('float')"
      ],
      "execution_count": 2,
      "outputs": [
        {
          "output_type": "stream",
          "name": "stdout",
          "text": [
            "Downloading data from https://www.cs.toronto.edu/~kriz/cifar-10-python.tar.gz\n",
            "170500096/170498071 [==============================] - 2s 0us/step\n",
            "170508288/170498071 [==============================] - 2s 0us/step\n",
            "(50000, 32, 32, 3)\n"
          ]
        }
      ]
    },
    {
      "cell_type": "code",
      "metadata": {
        "id": "MnaauNRgQJQl"
      },
      "source": [
        "train_norm = training_images / 255.0 - 1\n",
        "test_norm = test_images / 255.0 -1"
      ],
      "execution_count": 3,
      "outputs": []
    },
    {
      "cell_type": "code",
      "metadata": {
        "colab": {
          "base_uri": "https://localhost:8080/"
        },
        "id": "Ql0B9cPYQuFC",
        "outputId": "5ac60817-9ca5-45ff-ff93-7f62ed1fced8"
      },
      "source": [
        "#load base model (VGG16)\n",
        "from keras.applications.vgg16 import VGG16\n",
        "\n",
        "base_model = VGG16(\n",
        "    include_top=False,\n",
        "    weights=\"imagenet\",\n",
        "    input_tensor=None,\n",
        "    input_shape=(32, 32, 3),\n",
        "    pooling=\"max\"\n",
        ")\n",
        "base_model.summary()\n",
        "\n"
      ],
      "execution_count": 4,
      "outputs": [
        {
          "output_type": "stream",
          "name": "stdout",
          "text": [
            "Downloading data from https://storage.googleapis.com/tensorflow/keras-applications/vgg16/vgg16_weights_tf_dim_ordering_tf_kernels_notop.h5\n",
            "58892288/58889256 [==============================] - 1s 0us/step\n",
            "58900480/58889256 [==============================] - 1s 0us/step\n",
            "Model: \"vgg16\"\n",
            "_________________________________________________________________\n",
            " Layer (type)                Output Shape              Param #   \n",
            "=================================================================\n",
            " input_1 (InputLayer)        [(None, 32, 32, 3)]       0         \n",
            "                                                                 \n",
            " block1_conv1 (Conv2D)       (None, 32, 32, 64)        1792      \n",
            "                                                                 \n",
            " block1_conv2 (Conv2D)       (None, 32, 32, 64)        36928     \n",
            "                                                                 \n",
            " block1_pool (MaxPooling2D)  (None, 16, 16, 64)        0         \n",
            "                                                                 \n",
            " block2_conv1 (Conv2D)       (None, 16, 16, 128)       73856     \n",
            "                                                                 \n",
            " block2_conv2 (Conv2D)       (None, 16, 16, 128)       147584    \n",
            "                                                                 \n",
            " block2_pool (MaxPooling2D)  (None, 8, 8, 128)         0         \n",
            "                                                                 \n",
            " block3_conv1 (Conv2D)       (None, 8, 8, 256)         295168    \n",
            "                                                                 \n",
            " block3_conv2 (Conv2D)       (None, 8, 8, 256)         590080    \n",
            "                                                                 \n",
            " block3_conv3 (Conv2D)       (None, 8, 8, 256)         590080    \n",
            "                                                                 \n",
            " block3_pool (MaxPooling2D)  (None, 4, 4, 256)         0         \n",
            "                                                                 \n",
            " block4_conv1 (Conv2D)       (None, 4, 4, 512)         1180160   \n",
            "                                                                 \n",
            " block4_conv2 (Conv2D)       (None, 4, 4, 512)         2359808   \n",
            "                                                                 \n",
            " block4_conv3 (Conv2D)       (None, 4, 4, 512)         2359808   \n",
            "                                                                 \n",
            " block4_pool (MaxPooling2D)  (None, 2, 2, 512)         0         \n",
            "                                                                 \n",
            " block5_conv1 (Conv2D)       (None, 2, 2, 512)         2359808   \n",
            "                                                                 \n",
            " block5_conv2 (Conv2D)       (None, 2, 2, 512)         2359808   \n",
            "                                                                 \n",
            " block5_conv3 (Conv2D)       (None, 2, 2, 512)         2359808   \n",
            "                                                                 \n",
            " block5_pool (MaxPooling2D)  (None, 1, 1, 512)         0         \n",
            "                                                                 \n",
            " global_max_pooling2d (Globa  (None, 512)              0         \n",
            " lMaxPooling2D)                                                  \n",
            "                                                                 \n",
            "=================================================================\n",
            "Total params: 14,714,688\n",
            "Trainable params: 14,714,688\n",
            "Non-trainable params: 0\n",
            "_________________________________________________________________\n"
          ]
        }
      ]
    },
    {
      "cell_type": "code",
      "metadata": {
        "colab": {
          "base_uri": "https://localhost:8080/"
        },
        "id": "Jlx33tYzUOOU",
        "outputId": "068f99d4-9a3c-4491-9f72-4c907df8e687"
      },
      "source": [
        "#Freeze all layers in the base model \n",
        "base_model.trainable = False\n",
        "\n",
        "#Create new model by adding two dense layers on top of base model\n",
        "inputs = keras.Input((32, 32, 3))\n",
        "\n",
        "x = base_model(inputs, training=False)\n",
        "\n",
        "x = keras.layers.Dense(units=128, activation='relu')(x)\n",
        "\n",
        "outputs = keras.layers.Dense(units=10, activation='softmax')(x)\n",
        "\n",
        "model = keras.models.Model(inputs, outputs)\n",
        "\n",
        "model.summary()\n"
      ],
      "execution_count": 5,
      "outputs": [
        {
          "output_type": "stream",
          "name": "stdout",
          "text": [
            "Model: \"model\"\n",
            "_________________________________________________________________\n",
            " Layer (type)                Output Shape              Param #   \n",
            "=================================================================\n",
            " input_2 (InputLayer)        [(None, 32, 32, 3)]       0         \n",
            "                                                                 \n",
            " vgg16 (Functional)          (None, 512)               14714688  \n",
            "                                                                 \n",
            " dense (Dense)               (None, 128)               65664     \n",
            "                                                                 \n",
            " dense_1 (Dense)             (None, 10)                1290      \n",
            "                                                                 \n",
            "=================================================================\n",
            "Total params: 14,781,642\n",
            "Trainable params: 66,954\n",
            "Non-trainable params: 14,714,688\n",
            "_________________________________________________________________\n"
          ]
        }
      ]
    },
    {
      "cell_type": "code",
      "metadata": {
        "id": "ujevkCQiZCVU"
      },
      "source": [
        "model.compile(optimizer=keras.optimizers.Adam(), \n",
        "              loss=keras.losses.SparseCategoricalCrossentropy(), \n",
        "              metrics=keras.metrics.SparseCategoricalAccuracy())"
      ],
      "execution_count": 6,
      "outputs": []
    },
    {
      "cell_type": "code",
      "metadata": {
        "colab": {
          "base_uri": "https://localhost:8080/"
        },
        "id": "uFbQPVUdbpfw",
        "outputId": "4f174623-f4af-4e0e-ab75-b33b48905e67"
      },
      "source": [
        "model.fit(x=train_norm, y=training_labels, epochs=10, validation_data=(test_norm, test_labels))"
      ],
      "execution_count": 8,
      "outputs": [
        {
          "output_type": "stream",
          "name": "stdout",
          "text": [
            "Epoch 1/10\n",
            "1563/1563 [==============================] - 45s 23ms/step - loss: 1.3475 - sparse_categorical_accuracy: 0.5297 - val_loss: 1.2275 - val_sparse_categorical_accuracy: 0.5726\n",
            "Epoch 2/10\n",
            "1563/1563 [==============================] - 35s 22ms/step - loss: 1.1724 - sparse_categorical_accuracy: 0.5896 - val_loss: 1.2009 - val_sparse_categorical_accuracy: 0.5796\n",
            "Epoch 3/10\n",
            "1563/1563 [==============================] - 35s 22ms/step - loss: 1.1157 - sparse_categorical_accuracy: 0.6101 - val_loss: 1.1959 - val_sparse_categorical_accuracy: 0.5838\n",
            "Epoch 4/10\n",
            "1563/1563 [==============================] - 35s 22ms/step - loss: 1.0710 - sparse_categorical_accuracy: 0.6247 - val_loss: 1.1560 - val_sparse_categorical_accuracy: 0.5969\n",
            "Epoch 5/10\n",
            "1563/1563 [==============================] - 35s 22ms/step - loss: 1.0358 - sparse_categorical_accuracy: 0.6358 - val_loss: 1.1311 - val_sparse_categorical_accuracy: 0.6039\n",
            "Epoch 6/10\n",
            "1563/1563 [==============================] - 35s 22ms/step - loss: 1.0018 - sparse_categorical_accuracy: 0.6494 - val_loss: 1.1229 - val_sparse_categorical_accuracy: 0.6128\n",
            "Epoch 7/10\n",
            "1563/1563 [==============================] - 35s 22ms/step - loss: 0.9723 - sparse_categorical_accuracy: 0.6599 - val_loss: 1.1484 - val_sparse_categorical_accuracy: 0.6029\n",
            "Epoch 8/10\n",
            "1563/1563 [==============================] - 35s 22ms/step - loss: 0.9465 - sparse_categorical_accuracy: 0.6688 - val_loss: 1.1189 - val_sparse_categorical_accuracy: 0.6101\n",
            "Epoch 9/10\n",
            "1563/1563 [==============================] - 35s 22ms/step - loss: 0.9188 - sparse_categorical_accuracy: 0.6772 - val_loss: 1.1311 - val_sparse_categorical_accuracy: 0.6135\n",
            "Epoch 10/10\n",
            "1563/1563 [==============================] - 35s 22ms/step - loss: 0.8960 - sparse_categorical_accuracy: 0.6863 - val_loss: 1.1291 - val_sparse_categorical_accuracy: 0.6159\n"
          ]
        },
        {
          "output_type": "execute_result",
          "data": {
            "text/plain": [
              "<keras.callbacks.History at 0x7f82a02ef4d0>"
            ]
          },
          "metadata": {},
          "execution_count": 8
        }
      ]
    },
    {
      "cell_type": "code",
      "metadata": {
        "id": "Wsb06xFSfXmk"
      },
      "source": [
        "#Do a round of fine-tuning of the entire model\n",
        "\n",
        "base_model.trainable = True"
      ],
      "execution_count": 15,
      "outputs": []
    },
    {
      "cell_type": "code",
      "metadata": {
        "id": "EIJJWtkQb0JJ"
      },
      "source": [
        "\n",
        "model.compile(optimizer=keras.optimizers.Adam(learning_rate=1e-5), # Low learning rate\n",
        "              loss=keras.losses.SparseCategoricalCrossentropy(), \n",
        "              metrics=keras.metrics.SparseCategoricalAccuracy())"
      ],
      "execution_count": 17,
      "outputs": []
    },
    {
      "cell_type": "code",
      "metadata": {
        "colab": {
          "base_uri": "https://localhost:8080/"
        },
        "id": "29yFyk6zfcxC",
        "outputId": "03f2cc90-2ec2-49db-e4c9-a0ddc328fa09"
      },
      "source": [
        "model.fit(x=train_norm, y=training_labels, epochs=10, validation_data=(test_norm, test_labels))"
      ],
      "execution_count": null,
      "outputs": [
        {
          "output_type": "stream",
          "name": "stdout",
          "text": [
            "Epoch 1/10\n",
            "1563/1563 [==============================] - 103s 64ms/step - loss: 0.7773 - sparse_categorical_accuracy: 0.7281 - val_loss: 0.7642 - val_sparse_categorical_accuracy: 0.7361\n",
            "Epoch 2/10\n",
            "1563/1563 [==============================] - 99s 63ms/step - loss: 0.5576 - sparse_categorical_accuracy: 0.8028 - val_loss: 0.7022 - val_sparse_categorical_accuracy: 0.7602\n",
            "Epoch 3/10\n",
            "1563/1563 [==============================] - 99s 63ms/step - loss: 0.4272 - sparse_categorical_accuracy: 0.8474 - val_loss: 0.6231 - val_sparse_categorical_accuracy: 0.7903\n",
            "Epoch 4/10\n",
            "1563/1563 [==============================] - 99s 63ms/step - loss: 0.3266 - sparse_categorical_accuracy: 0.8839 - val_loss: 0.6734 - val_sparse_categorical_accuracy: 0.7876\n",
            "Epoch 5/10\n",
            "1563/1563 [==============================] - 99s 63ms/step - loss: 0.2437 - sparse_categorical_accuracy: 0.9144 - val_loss: 0.6707 - val_sparse_categorical_accuracy: 0.7960\n",
            "Epoch 6/10\n",
            "1563/1563 [==============================] - 99s 64ms/step - loss: 0.1782 - sparse_categorical_accuracy: 0.9379 - val_loss: 0.6871 - val_sparse_categorical_accuracy: 0.7963\n",
            "Epoch 7/10\n",
            "1563/1563 [==============================] - 98s 63ms/step - loss: 0.1321 - sparse_categorical_accuracy: 0.9556 - val_loss: 0.7608 - val_sparse_categorical_accuracy: 0.7923\n",
            "Epoch 8/10\n",
            "1563/1563 [==============================] - 99s 63ms/step - loss: 0.0978 - sparse_categorical_accuracy: 0.9683 - val_loss: 0.7692 - val_sparse_categorical_accuracy: 0.8073\n",
            "Epoch 9/10\n",
            "1563/1563 [==============================] - 99s 63ms/step - loss: 0.0774 - sparse_categorical_accuracy: 0.9754 - val_loss: 0.8123 - val_sparse_categorical_accuracy: 0.8034\n",
            "Epoch 10/10\n",
            "1563/1563 [==============================] - 99s 63ms/step - loss: 0.0570 - sparse_categorical_accuracy: 0.9820 - val_loss: 0.8806 - val_sparse_categorical_accuracy: 0.8038\n"
          ]
        },
        {
          "output_type": "execute_result",
          "data": {
            "text/plain": [
              "<keras.callbacks.History at 0x7fae855b3350>"
            ]
          },
          "metadata": {},
          "execution_count": 30
        }
      ]
    }
  ]
}