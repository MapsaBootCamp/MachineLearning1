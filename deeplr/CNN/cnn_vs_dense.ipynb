{
  "nbformat": 4,
  "nbformat_minor": 0,
  "metadata": {
    "colab": {
      "name": "cnn_vs_dense.ipynb",
      "provenance": []
    },
    "kernelspec": {
      "name": "python3",
      "display_name": "Python 3"
    },
    "language_info": {
      "name": "python"
    },
    "accelerator": "GPU"
  },
  "cells": [
    {
      "cell_type": "code",
      "metadata": {
        "id": "iMkYc0UINfbE"
      },
      "source": [
        "import tensorflow as tf\n",
        "from tensorflow import keras\n",
        "from tensorflow.keras.utils import plot_model\n",
        "from tensorflow.keras import models\n"
      ],
      "execution_count": 40,
      "outputs": []
    },
    {
      "cell_type": "markdown",
      "metadata": {
        "id": "I3poNiiFObRu"
      },
      "source": [
        "# **Fully Connected model**"
      ]
    },
    {
      "cell_type": "code",
      "metadata": {
        "id": "wtaXtD5mNqel",
        "colab": {
          "base_uri": "https://localhost:8080/"
        },
        "outputId": "58fdbc2c-ac88-4317-a40c-d3f59a96a5a5"
      },
      "source": [
        "#load fashin mnist dataset\n",
        "(training_images, training_labels), (test_images, test_labels) = keras.datasets.fashion_mnist.load_data()\n",
        "\n",
        "#scale data\n",
        "training_images=training_images / 255.0\n",
        "test_images=test_images / 255.0\n",
        "\n",
        "print(training_labels[:10])"
      ],
      "execution_count": 2,
      "outputs": [
        {
          "output_type": "stream",
          "name": "stdout",
          "text": [
            "Downloading data from https://storage.googleapis.com/tensorflow/tf-keras-datasets/train-labels-idx1-ubyte.gz\n",
            "32768/29515 [=================================] - 0s 0us/step\n",
            "40960/29515 [=========================================] - 0s 0us/step\n",
            "Downloading data from https://storage.googleapis.com/tensorflow/tf-keras-datasets/train-images-idx3-ubyte.gz\n",
            "26427392/26421880 [==============================] - 0s 0us/step\n",
            "26435584/26421880 [==============================] - 0s 0us/step\n",
            "Downloading data from https://storage.googleapis.com/tensorflow/tf-keras-datasets/t10k-labels-idx1-ubyte.gz\n",
            "16384/5148 [===============================================================================================] - 0s 0us/step\n",
            "Downloading data from https://storage.googleapis.com/tensorflow/tf-keras-datasets/t10k-images-idx3-ubyte.gz\n",
            "4423680/4422102 [==============================] - 0s 0us/step\n",
            "4431872/4422102 [==============================] - 0s 0us/step\n",
            "[9 0 0 3 0 2 7 2 5 5]\n"
          ]
        }
      ]
    },
    {
      "cell_type": "code",
      "metadata": {
        "colab": {
          "base_uri": "https://localhost:8080/",
          "height": 629
        },
        "id": "SxnlfYWPVWgT",
        "outputId": "9da48b89-c9ac-4098-b729-262c8f42bcb6"
      },
      "source": [
        "def get_model_fc():\n",
        "  model = keras.models.Sequential(name=\"Fully_Connected\")\n",
        "  model.add(keras.layers.Flatten(input_shape=(28,28), name=\"Flatten\"))\n",
        "  model.add(keras.layers.Dense(128, activation=keras.activations.relu, name=\"Dens1\"))\n",
        "  model.add(keras.layers.Dense(10, activation='softmax', name=\"Dens2\"))\n",
        "  model.compile(optimizer='adam', loss=keras.losses.sparse_categorical_crossentropy, metrics=['accuracy'])\n",
        "  return model\n",
        "\n",
        "model_fc = get_model_fc()\n",
        "model_fc.summary()\n",
        "\n",
        "plot_model(model_fc, to_file=\"model_fc.png\")"
      ],
      "execution_count": 14,
      "outputs": [
        {
          "output_type": "stream",
          "name": "stdout",
          "text": [
            "Model: \"Fully_Connected\"\n",
            "_________________________________________________________________\n",
            " Layer (type)                Output Shape              Param #   \n",
            "=================================================================\n",
            " Flatten (Flatten)           (None, 784)               0         \n",
            "                                                                 \n",
            " Dens1 (Dense)               (None, 128)               100480    \n",
            "                                                                 \n",
            " Dens2 (Dense)               (None, 10)                1290      \n",
            "                                                                 \n",
            "=================================================================\n",
            "Total params: 101,770\n",
            "Trainable params: 101,770\n",
            "Non-trainable params: 0\n",
            "_________________________________________________________________\n"
          ]
        },
        {
          "output_type": "execute_result",
          "data": {
            "image/png": "[encoded data removed]",
            "text/plain": [
              "<IPython.core.display.Image object>"
            ]
          },
          "metadata": {},
          "execution_count": 14
        }
      ]
    },
    {
      "cell_type": "code",
      "metadata": {
        "colab": {
          "base_uri": "https://localhost:8080/"
        },
        "id": "MzUeT8mmWi3H",
        "outputId": "fb097293-687c-45fe-fcf2-525cd2e1e6e5"
      },
      "source": [
        "history =model_fc.fit(training_images, training_labels, epochs=5)"
      ],
      "execution_count": 16,
      "outputs": [
        {
          "output_type": "stream",
          "name": "stdout",
          "text": [
            "Epoch 1/5\n",
            "1875/1875 [==============================] - 8s 3ms/step - loss: 0.4927 - accuracy: 0.8270\n",
            "Epoch 2/5\n",
            "1875/1875 [==============================] - 5s 3ms/step - loss: 0.3716 - accuracy: 0.8656\n",
            "Epoch 3/5\n",
            "1875/1875 [==============================] - 5s 3ms/step - loss: 0.3333 - accuracy: 0.8785\n",
            "Epoch 4/5\n",
            "1875/1875 [==============================] - 5s 3ms/step - loss: 0.3088 - accuracy: 0.8862\n",
            "Epoch 5/5\n",
            "1875/1875 [==============================] - 5s 3ms/step - loss: 0.2924 - accuracy: 0.8921\n"
          ]
        }
      ]
    },
    {
      "cell_type": "code",
      "metadata": {
        "colab": {
          "base_uri": "https://localhost:8080/"
        },
        "id": "Cvf7AwNROa-K",
        "outputId": "1d1f96d9-22b6-4874-8f86-87719215d52e"
      },
      "source": [
        "\n",
        "test_loss, test_acc = model_fc.evaluate(test_images, test_labels)\n",
        "print(test_acc)"
      ],
      "execution_count": 18,
      "outputs": [
        {
          "output_type": "stream",
          "name": "stdout",
          "text": [
            "313/313 [==============================] - 1s 3ms/step - loss: 0.3414 - accuracy: 0.8783\n",
            "0.8783000111579895\n"
          ]
        }
      ]
    },
    {
      "cell_type": "markdown",
      "metadata": {
        "id": "8QNTIVo-OJcn"
      },
      "source": [
        "# **CNN Model**"
      ]
    },
    {
      "cell_type": "code",
      "metadata": {
        "colab": {
          "base_uri": "https://localhost:8080/"
        },
        "id": "c2qXSMPePqSW",
        "outputId": "8b19285a-41d4-4f7b-eb66-bb44b090d03c"
      },
      "source": [
        "training_images.shape"
      ],
      "execution_count": 22,
      "outputs": [
        {
          "output_type": "execute_result",
          "data": {
            "text/plain": [
              "(60000, 28, 28)"
            ]
          },
          "metadata": {},
          "execution_count": 22
        }
      ]
    },
    {
      "cell_type": "code",
      "metadata": {
        "colab": {
          "base_uri": "https://localhost:8080/"
        },
        "id": "l_A0x2J0Ot9c",
        "outputId": "64e7f241-8f9e-4222-9443-cec72594e349"
      },
      "source": [
        "#load fashin mnist dataset\n",
        "(training_images, training_labels), (test_images, test_labels) = keras.datasets.fashion_mnist.load_data()\n",
        "print(training_images.shape)\n",
        "\n",
        "#reshape\n",
        "training_images = training_images.reshape(training_images.shape[0], 28,28,1)\n",
        "test_images = test_images.reshape(test_images.shape[0], 28,28,1)\n",
        "print(training_images.shape)\n"
      ],
      "execution_count": 24,
      "outputs": [
        {
          "output_type": "stream",
          "name": "stdout",
          "text": [
            "(60000, 28, 28)\n",
            "(60000, 28, 28, 1)\n"
          ]
        }
      ]
    },
    {
      "cell_type": "code",
      "metadata": {
        "colab": {
          "base_uri": "https://localhost:8080/",
          "height": 1000
        },
        "id": "G6AtONY6Ocis",
        "outputId": "ca7b9955-0883-4d91-8093-25419b794957"
      },
      "source": [
        "#define model\n",
        "def get_model_cnn():\n",
        "  model_cnn = tf.keras.models.Sequential(name=\"cnn_model\")\n",
        "  model_cnn.add(keras.layers.Conv2D(32, (3,3), activation='relu', input_shape=(28,28,1)))\n",
        "  model_cnn.add(keras.layers.MaxPooling2D(2,2))\n",
        "  model_cnn.add(keras.layers.Conv2D(64, (3,3), activation='relu'))\n",
        "  model_cnn.add(keras.layers.MaxPooling2D((2,2)))\n",
        "  model_cnn.add(tf.keras.layers.Flatten())\n",
        "  model_cnn.add(tf.keras.layers.Dense(128, activation=keras.activations.relu))\n",
        "  model_cnn.add(tf.keras.layers.Dense(10, activation='softmax'))\n",
        "\n",
        "  model_cnn.compile(optimizer='adam', loss=keras.losses.sparse_categorical_crossentropy, metrics=['accuracy'])\n",
        "\n",
        "  return model_cnn\n",
        "\n",
        "model_cnn = get_model_cnn()\n",
        "model_cnn.summary()\n",
        "plot_model(model_cnn, to_file=\"model_fc.png\")"
      ],
      "execution_count": 28,
      "outputs": [
        {
          "output_type": "stream",
          "name": "stdout",
          "text": [
            "Model: \"cnn_model\"\n",
            "_________________________________________________________________\n",
            " Layer (type)                Output Shape              Param #   \n",
            "=================================================================\n",
            " conv2d_6 (Conv2D)           (None, 26, 26, 32)        320       \n",
            "                                                                 \n",
            " max_pooling2d_6 (MaxPooling  (None, 13, 13, 32)       0         \n",
            " 2D)                                                             \n",
            "                                                                 \n",
            " conv2d_7 (Conv2D)           (None, 11, 11, 64)        18496     \n",
            "                                                                 \n",
            " max_pooling2d_7 (MaxPooling  (None, 5, 5, 64)         0         \n",
            " 2D)                                                             \n",
            "                                                                 \n",
            " flatten_5 (Flatten)         (None, 1600)              0         \n",
            "                                                                 \n",
            " dense_12 (Dense)            (None, 128)               204928    \n",
            "                                                                 \n",
            " dense_13 (Dense)            (None, 10)                1290      \n",
            "                                                                 \n",
            "=================================================================\n",
            "Total params: 225,034\n",
            "Trainable params: 225,034\n",
            "Non-trainable params: 0\n",
            "_________________________________________________________________\n"
          ]
        },
        {
          "output_type": "execute_result",
          "data": {
            "image/png": "[encoded data removed]",
            "text/plain": [
              "<IPython.core.display.Image object>"
            ]
          },
          "metadata": {},
          "execution_count": 28
        }
      ]
    },
    {
      "cell_type": "code",
      "metadata": {
        "colab": {
          "base_uri": "https://localhost:8080/"
        },
        "id": "XnBDu1LxRWhu",
        "outputId": "409c839a-70c5-4565-f871-f9ca5681a751"
      },
      "source": [
        "history =model_cnn.fit(training_images, training_labels, epochs=5)"
      ],
      "execution_count": 29,
      "outputs": [
        {
          "output_type": "stream",
          "name": "stdout",
          "text": [
            "Epoch 1/5\n",
            "1875/1875 [==============================] - 38s 6ms/step - loss: 0.5873 - accuracy: 0.8317\n",
            "Epoch 2/5\n",
            "1875/1875 [==============================] - 10s 6ms/step - loss: 0.3230 - accuracy: 0.8809\n",
            "Epoch 3/5\n",
            "1875/1875 [==============================] - 10s 6ms/step - loss: 0.2864 - accuracy: 0.8928\n",
            "Epoch 4/5\n",
            "1875/1875 [==============================] - 10s 6ms/step - loss: 0.2607 - accuracy: 0.9030\n",
            "Epoch 5/5\n",
            "1875/1875 [==============================] - 10s 6ms/step - loss: 0.2370 - accuracy: 0.9108\n"
          ]
        }
      ]
    },
    {
      "cell_type": "code",
      "metadata": {
        "colab": {
          "base_uri": "https://localhost:8080/"
        },
        "id": "H_nYhd8dSaQy",
        "outputId": "320961cc-3cde-411f-806f-e4cd0d615599"
      },
      "source": [
        "test_loss, test_acc = model_fc.evaluate(test_images, test_labels)\n",
        "print(test_acc)"
      ],
      "execution_count": 30,
      "outputs": [
        {
          "output_type": "stream",
          "name": "stdout",
          "text": [
            "313/313 [==============================] - 1s 3ms/step - loss: 52.8196 - accuracy: 0.8594\n",
            "0.8593999743461609\n"
          ]
        }
      ]
    },
    {
      "cell_type": "code",
      "metadata": {
        "id": "3FQ1FQD1sLai"
      },
      "source": [
        "# import os\n",
        "# os.mkdir(\"myModel\")\n",
        "\n",
        "model_cnn.save(\"myModel/model_cnn.h5\")\n",
        "\n",
        "model_cnn.save_weights(\"myModel/model_cnn_wights.h5\")\n"
      ],
      "execution_count": 32,
      "outputs": []
    },
    {
      "cell_type": "code",
      "metadata": {
        "id": "dlIclMlIsEHt",
        "colab": {
          "base_uri": "https://localhost:8080/"
        },
        "outputId": "d5e7c6c9-a38e-4dbb-8403-d11c50757c3c"
      },
      "source": [
        "loaded_model = keras.models.load_model(\"/content/myModel/model_cnn.h5\")\n",
        "loaded_model.summary()"
      ],
      "execution_count": 33,
      "outputs": [
        {
          "output_type": "stream",
          "name": "stdout",
          "text": [
            "Model: \"cnn_model\"\n",
            "_________________________________________________________________\n",
            " Layer (type)                Output Shape              Param #   \n",
            "=================================================================\n",
            " conv2d_6 (Conv2D)           (None, 26, 26, 32)        320       \n",
            "                                                                 \n",
            " max_pooling2d_6 (MaxPooling  (None, 13, 13, 32)       0         \n",
            " 2D)                                                             \n",
            "                                                                 \n",
            " conv2d_7 (Conv2D)           (None, 11, 11, 64)        18496     \n",
            "                                                                 \n",
            " max_pooling2d_7 (MaxPooling  (None, 5, 5, 64)         0         \n",
            " 2D)                                                             \n",
            "                                                                 \n",
            " flatten_5 (Flatten)         (None, 1600)              0         \n",
            "                                                                 \n",
            " dense_12 (Dense)            (None, 128)               204928    \n",
            "                                                                 \n",
            " dense_13 (Dense)            (None, 10)                1290      \n",
            "                                                                 \n",
            "=================================================================\n",
            "Total params: 225,034\n",
            "Trainable params: 225,034\n",
            "Non-trainable params: 0\n",
            "_________________________________________________________________\n"
          ]
        }
      ]
    },
    {
      "cell_type": "markdown",
      "metadata": {
        "id": "1jr84vNCTJ6f"
      },
      "source": [
        "# **Visualizing the Convolutions and Pooling**"
      ]
    },
    {
      "cell_type": "code",
      "metadata": {
        "colab": {
          "base_uri": "https://localhost:8080/",
          "height": 268
        },
        "id": "NXe3R4e2Tjvd",
        "outputId": "758d09c2-6f21-4b69-c809-7236b0d5a6b4"
      },
      "source": [
        "\n",
        "f, axarr = plt.subplots(3,4)\n",
        "\n",
        "image1=0\n",
        "image2=12\n",
        "image3=26\n",
        "cnn_filter = 10\n",
        "\n",
        "layer_outputs = [layer.output for layer in model_cnn.layers]\n",
        "activation_model = tf.keras.models.Model(inputs = model_cnn.input, outputs = layer_outputs)\n",
        "for x in range(0,4):\n",
        "  f1 = activation_model.predict(test_images[image1].reshape(1, 28, 28, 1))[x]\n",
        "  axarr[0,x].imshow(f1[0, : , :, cnn_filter], cmap='inferno')\n",
        "  axarr[0,x].grid(False)\n",
        "\n",
        "  f2 = activation_model.predict(test_images[image2].reshape(1, 28, 28, 1))[x]\n",
        "  axarr[1,x].imshow(f2[0, : , :, cnn_filter], cmap='inferno')\n",
        "  axarr[1,x].grid(False)\n",
        "\n",
        "  f3 = activation_model.predict(test_images[image3].reshape(1, 28, 28, 1))[x]\n",
        "  axarr[2,x].imshow(f3[0, : , :, cnn_filter], cmap='inferno')\n",
        "  axarr[2,x].grid(False)"
      ],
      "execution_count": 46,
      "outputs": [
        {
          "output_type": "display_data",
          "data": {
            "image/png": "[encoded data removed]",
            "text/plain": [
              "<Figure size 432x288 with 12 Axes>"
            ]
          },
          "metadata": {
            "needs_background": "light"
          }
        }
      ]
    }
  ]
}