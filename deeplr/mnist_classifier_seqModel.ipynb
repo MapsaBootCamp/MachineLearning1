{
  "nbformat": 4,
  "nbformat_minor": 0,
  "metadata": {
    "colab": {
      "name": "mnist_classifier_seqModel.ipynb",
      "provenance": [],
      "collapsed_sections": []
    },
    "kernelspec": {
      "name": "python3",
      "display_name": "Python 3"
    },
    "accelerator": "GPU"
  },
  "cells": [
    {
      "cell_type": "code",
      "metadata": {
        "colab": {
          "base_uri": "https://localhost:8080/"
        },
        "id": "PbNbXIEydUPQ",
        "outputId": "59cea844-d8ff-44c5-9e37-2e38cd0e2ec9"
      },
      "source": [
        "!nvidia-smi\n"
      ],
      "execution_count": null,
      "outputs": [
        {
          "output_type": "stream",
          "name": "stdout",
          "text": [
            "Fri Nov  5 09:37:12 2021       \n",
            "+-----------------------------------------------------------------------------+\n",
            "| NVIDIA-SMI 495.44       Driver Version: 460.32.03    CUDA Version: 11.2     |\n",
            "|-------------------------------+----------------------+----------------------+\n",
            "| GPU  Name        Persistence-M| Bus-Id        Disp.A | Volatile Uncorr. ECC |\n",
            "| Fan  Temp  Perf  Pwr:Usage/Cap|         Memory-Usage | GPU-Util  Compute M. |\n",
            "|                               |                      |               MIG M. |\n",
            "|===============================+======================+======================|\n",
            "|   0  Tesla K80           Off  | 00000000:00:04.0 Off |                    0 |\n",
            "| N/A   55C    P8    30W / 149W |      0MiB / 11441MiB |      0%      Default |\n",
            "|                               |                      |                  N/A |\n",
            "+-------------------------------+----------------------+----------------------+\n",
            "                                                                               \n",
            "+-----------------------------------------------------------------------------+\n",
            "| Processes:                                                                  |\n",
            "|  GPU   GI   CI        PID   Type   Process name                  GPU Memory |\n",
            "|        ID   ID                                                   Usage      |\n",
            "|=============================================================================|\n",
            "|  No running processes found                                                 |\n",
            "+-----------------------------------------------------------------------------+\n"
          ]
        }
      ]
    },
    {
      "cell_type": "code",
      "metadata": {
        "id": "Vl-34g3b3Otn"
      },
      "source": [
        "import numpy as np\n",
        "import matplotlib.pyplot as plt\n",
        "import tensorflow as tf\n",
        "from tensorflow import keras\n",
        "\n",
        "# tf.random.set_seed(1234)"
      ],
      "execution_count": 7,
      "outputs": []
    },
    {
      "cell_type": "code",
      "metadata": {
        "id": "pcotvIFr6MIY",
        "colab": {
          "base_uri": "https://localhost:8080/"
        },
        "outputId": "99b8740f-f52b-4fab-e730-d07fa1e1e432"
      },
      "source": [
        "(x_train, y_train), (x_test, y_test) = keras.datasets.mnist.load_data()\n",
        "\n",
        "# let's print the shape before we reshape and normalize\n",
        "print(\"X_train shape\", x_train.shape)\n",
        "print(\"y_train shape\", y_train.shape)\n",
        "print(\"X_test shape\", x_test.shape)\n",
        "print(\"y_test shape\", y_test.shape)"
      ],
      "execution_count": 2,
      "outputs": [
        {
          "output_type": "stream",
          "name": "stdout",
          "text": [
            "Downloading data from https://storage.googleapis.com/tensorflow/tf-keras-datasets/mnist.npz\n",
            "11493376/11490434 [==============================] - 0s 0us/step\n",
            "11501568/11490434 [==============================] - 0s 0us/step\n",
            "X_train shape (60000, 28, 28)\n",
            "y_train shape (60000,)\n",
            "X_test shape (10000, 28, 28)\n",
            "y_test shape (10000,)\n"
          ]
        }
      ]
    },
    {
      "cell_type": "code",
      "metadata": {
        "colab": {
          "base_uri": "https://localhost:8080/",
          "height": 284
        },
        "id": "4CucuQY2Cv73",
        "outputId": "47dcefba-8718-4459-877a-e304a37731df"
      },
      "source": [
        "fig = plt.figure()\n",
        "for i in range(9):\n",
        "  plt.subplot(3,3,i+1)\n",
        "  plt.tight_layout()\n",
        "  plt.imshow(x_train[i], cmap='gray', interpolation='none')\n",
        "  plt.title(\"Digit: {}\".format(y_train[i]))\n",
        "  plt.xticks([])\n",
        "  plt.yticks([])"
      ],
      "execution_count": 13,
      "outputs": [
        {
          "output_type": "display_data",
          "data": {
            "image/png": "[encoded data removed]",
            "text/plain": [
              "<Figure size 432x288 with 9 Axes>"
            ]
          },
          "metadata": {}
        }
      ]
    },
    {
      "cell_type": "code",
      "metadata": {
        "colab": {
          "base_uri": "https://localhost:8080/",
          "height": 298
        },
        "id": "AyFmrHDGCz0Q",
        "outputId": "40bf69e4-af4f-4e5a-daee-88a01d74e621"
      },
      "source": [
        "fig = plt.figure()\n",
        "plt.subplot(2,1,1)\n",
        "plt.imshow(x_train[0], cmap='gray', interpolation='none')\n",
        "plt.title(\"Digit: {}\".format(y_train[0]))\n",
        "plt.xticks([])\n",
        "plt.yticks([])\n",
        "plt.subplot(2,1,2)\n",
        "plt.hist(x_train[1].reshape(784))\n",
        "plt.title(\"Pixel Value Distribution\")"
      ],
      "execution_count": 14,
      "outputs": [
        {
          "output_type": "execute_result",
          "data": {
            "text/plain": [
              "Text(0.5, 1.0, 'Pixel Value Distribution')"
            ]
          },
          "metadata": {},
          "execution_count": 14
        },
        {
          "output_type": "display_data",
          "data": {
            "image/png": "[encoded data removed]",
            "text/plain": [
              "<Figure size 432x288 with 2 Axes>"
            ]
          },
          "metadata": {
            "needs_background": "light"
          }
        }
      ]
    },
    {
      "cell_type": "code",
      "metadata": {
        "id": "eLzyxzH13R8V",
        "colab": {
          "base_uri": "https://localhost:8080/",
          "height": 877
        },
        "outputId": "e466db2f-5fdf-4662-dc03-9a2ce53b10f3"
      },
      "source": [
        "from tensorflow.keras.utils import plot_model\n",
        "\n",
        "# Build a simpl1e model\n",
        "model = keras.models.Sequential()\n",
        "model.add(keras.layers.experimental.preprocessing.Rescaling(scale=1.0/255, input_shape=(28, 28)))\n",
        "model.add(keras.layers.Flatten())\n",
        "model.add(keras.layers.Dense(128, activation='relu'))\n",
        "model.add(keras.layers.Dense(128, activation='relu'))\n",
        "model.add(keras.layers.Dense(10, activation='softmax'))\n",
        "\n",
        "model.summary()\n",
        "plot_model(model,to_file='multilayer_perceptron_graph.png')\n"
      ],
      "execution_count": 11,
      "outputs": [
        {
          "output_type": "stream",
          "name": "stdout",
          "text": [
            "Model: \"sequential_1\"\n",
            "_________________________________________________________________\n",
            "Layer (type)                 Output Shape              Param #   \n",
            "=================================================================\n",
            "rescaling_1 (Rescaling)      (None, 28, 28)            0         \n",
            "_________________________________________________________________\n",
            "flatten_1 (Flatten)          (None, 784)               0         \n",
            "_________________________________________________________________\n",
            "dense_3 (Dense)              (None, 128)               100480    \n",
            "_________________________________________________________________\n",
            "dense_4 (Dense)              (None, 128)               16512     \n",
            "_________________________________________________________________\n",
            "dense_5 (Dense)              (None, 10)                1290      \n",
            "=================================================================\n",
            "Total params: 118,282\n",
            "Trainable params: 118,282\n",
            "Non-trainable params: 0\n",
            "_________________________________________________________________\n"
          ]
        },
        {
          "output_type": "execute_result",
          "data": {
            "image/png": "[encoded data removed]",
            "text/plain": [
              "<IPython.core.display.Image object>"
            ]
          },
          "metadata": {},
          "execution_count": 11
        }
      ]
    },
    {
      "cell_type": "code",
      "metadata": {
        "id": "9U2KgXNK5wKm",
        "colab": {
          "base_uri": "https://localhost:8080/"
        },
        "outputId": "c0182784-9a3d-4293-edfd-ce0914d9ada6"
      },
      "source": [
        "model.compile(optimizer=keras.optimizers.RMSprop(learning_rate=1e-3),\n",
        "              loss=keras.losses.SparseCategoricalCrossentropy(),\n",
        "              metrics=[keras.metrics.SparseCategoricalAccuracy()])\n",
        "\n",
        "# Train the model for 1 epoch from Numpy data\n",
        "batch_size = 64\n",
        "print(\"Fit on NumPy data\")\n",
        "history = model.fit(x_train, y_train, batch_size=batch_size, epochs=10)"
      ],
      "execution_count": 12,
      "outputs": [
        {
          "output_type": "stream",
          "name": "stdout",
          "text": [
            "Fit on NumPy data\n",
            "Epoch 1/10\n",
            "938/938 [==============================] - 6s 3ms/step - loss: 0.2540 - sparse_categorical_accuracy: 0.9254\n",
            "Epoch 2/10\n",
            "938/938 [==============================] - 3s 3ms/step - loss: 0.1104 - sparse_categorical_accuracy: 0.9666\n",
            "Epoch 3/10\n",
            "938/938 [==============================] - 3s 4ms/step - loss: 0.0786 - sparse_categorical_accuracy: 0.9762\n",
            "Epoch 4/10\n",
            "938/938 [==============================] - 3s 3ms/step - loss: 0.0605 - sparse_categorical_accuracy: 0.9815\n",
            "Epoch 5/10\n",
            "938/938 [==============================] - 3s 3ms/step - loss: 0.0486 - sparse_categorical_accuracy: 0.9854\n",
            "Epoch 6/10\n",
            "938/938 [==============================] - 3s 3ms/step - loss: 0.0389 - sparse_categorical_accuracy: 0.9882\n",
            "Epoch 7/10\n",
            "938/938 [==============================] - 3s 4ms/step - loss: 0.0318 - sparse_categorical_accuracy: 0.9901\n",
            "Epoch 8/10\n",
            "938/938 [==============================] - 3s 3ms/step - loss: 0.0264 - sparse_categorical_accuracy: 0.9916\n",
            "Epoch 9/10\n",
            "938/938 [==============================] - 3s 3ms/step - loss: 0.0220 - sparse_categorical_accuracy: 0.9934\n",
            "Epoch 10/10\n",
            "938/938 [==============================] - 3s 4ms/step - loss: 0.0184 - sparse_categorical_accuracy: 0.9944\n"
          ]
        }
      ]
    },
    {
      "cell_type": "code",
      "metadata": {
        "id": "bo9mp6pO6Fqy",
        "colab": {
          "base_uri": "https://localhost:8080/"
        },
        "outputId": "79e7874a-4d0f-48e7-c9c2-197c3c6f531c"
      },
      "source": [
        "#history.history\n",
        "print(history.history)\n"
      ],
      "execution_count": 18,
      "outputs": [
        {
          "output_type": "stream",
          "name": "stdout",
          "text": [
            "{'loss': [0.2539790868759155, 0.11044271290302277, 0.07856053858995438, 0.060520123690366745, 0.04859111085534096, 0.03891830891370773, 0.031781215220689774, 0.026446493342518806, 0.021951107308268547, 0.018425531685352325], 'sparse_categorical_accuracy': [0.92535001039505, 0.9665833115577698, 0.9762333035469055, 0.9815333485603333, 0.9854333400726318, 0.9881500005722046, 0.990149974822998, 0.9916499853134155, 0.9933666586875916, 0.9944000244140625]}\n"
          ]
        }
      ]
    },
    {
      "cell_type": "code",
      "metadata": {
        "colab": {
          "base_uri": "https://localhost:8080/"
        },
        "id": "vF7YyihkC-Mq",
        "outputId": "71b82a3e-6a9c-48e0-8404-3d4700740abd"
      },
      "source": [
        "print(history.history['loss'])\n",
        "print(history.history['sparse_categorical_accuracy'])"
      ],
      "execution_count": 21,
      "outputs": [
        {
          "output_type": "stream",
          "name": "stdout",
          "text": [
            "[0.2539790868759155, 0.11044271290302277, 0.07856053858995438, 0.060520123690366745, 0.04859111085534096, 0.03891830891370773, 0.031781215220689774, 0.026446493342518806, 0.021951107308268547, 0.018425531685352325]\n",
            "[0.92535001039505, 0.9665833115577698, 0.9762333035469055, 0.9815333485603333, 0.9854333400726318, 0.9881500005722046, 0.990149974822998, 0.9916499853134155, 0.9933666586875916, 0.9944000244140625]\n"
          ]
        }
      ]
    },
    {
      "cell_type": "code",
      "metadata": {
        "colab": {
          "base_uri": "https://localhost:8080/"
        },
        "id": "OvCslC2BDOii",
        "outputId": "c6030eb0-49b9-4065-baec-e7caa05df687"
      },
      "source": [
        "result = model.evaluate(x_test, y_test, verbose=2)\n",
        "print(result)"
      ],
      "execution_count": 22,
      "outputs": [
        {
          "output_type": "stream",
          "name": "stdout",
          "text": [
            "313/313 - 1s - loss: 0.0916 - sparse_categorical_accuracy: 0.9802\n",
            "[0.09157665073871613, 0.9801999926567078]\n"
          ]
        }
      ]
    },
    {
      "cell_type": "code",
      "metadata": {
        "colab": {
          "base_uri": "https://localhost:8080/"
        },
        "id": "IdM0xz00Dj5x",
        "outputId": "a90154d3-e97e-4b93-83fc-10be2bcc7e9e"
      },
      "source": [
        "# Generate predictions (probabilities -- the output of the last layer)\n",
        "# on new data using `predict`\n",
        "print(\"Generate predictions for 3 samples\")\n",
        "predictions = model.predict(x_test[:3])\n",
        "print(\"predictions shape:\", np.argmax(predictions, axis=1))\n"
      ],
      "execution_count": 34,
      "outputs": [
        {
          "output_type": "stream",
          "name": "stdout",
          "text": [
            "Generate predictions for 3 samples\n",
            "predictions shape: [7 2 1]\n"
          ]
        }
      ]
    },
    {
      "cell_type": "code",
      "metadata": {
        "colab": {
          "base_uri": "https://localhost:8080/",
          "height": 284
        },
        "id": "EElVIwBMDxiC",
        "outputId": "060c93a5-927f-4542-abe6-8c60a39e020b"
      },
      "source": [
        "fig = plt.figure()\n",
        "for i in range(3):\n",
        "  plt.subplot(3,1,i+1)\n",
        "  plt.tight_layout()\n",
        "  plt.imshow(x_test[i], cmap='gray', interpolation='none')\n",
        "  plt.title(\"Digit: {}\".format(np.argmax(predictions[i])))\n",
        "  plt.xticks([])\n",
        "  plt.yticks([])"
      ],
      "execution_count": 36,
      "outputs": [
        {
          "output_type": "display_data",
          "data": {
            "image/png": "[encoded data removed]",
            "text/plain": [
              "<Figure size 432x288 with 3 Axes>"
            ]
          },
          "metadata": {}
        }
      ]
    },
    {
      "cell_type": "code",
      "metadata": {
        "id": "u8YvhdvoEa40"
      },
      "source": [
        "# Reserve 10,000 samples for validation\n",
        "x_val = x_train[-10000:]\n",
        "y_val = y_train[-10000:]\n",
        "x_train1 = x_train[:-10000]\n",
        "y_train1 = y_train[:-10000]"
      ],
      "execution_count": 37,
      "outputs": []
    },
    {
      "cell_type": "code",
      "metadata": {
        "colab": {
          "base_uri": "https://localhost:8080/"
        },
        "id": "xZqqmSqMEpXd",
        "outputId": "f77ba60c-c822-4a28-c097-c6627ea9fa80"
      },
      "source": [
        "history = model.fit(x_train1, y_train1, batch_size=batch_size, epochs=10, validation_data=(x_val,y_val))"
      ],
      "execution_count": 38,
      "outputs": [
        {
          "output_type": "stream",
          "name": "stdout",
          "text": [
            "Epoch 1/10\n",
            "782/782 [==============================] - 3s 4ms/step - loss: 0.0163 - sparse_categorical_accuracy: 0.9949 - val_loss: 0.0143 - val_sparse_categorical_accuracy: 0.9961\n",
            "Epoch 2/10\n",
            "782/782 [==============================] - 3s 4ms/step - loss: 0.0133 - sparse_categorical_accuracy: 0.9959 - val_loss: 0.0216 - val_sparse_categorical_accuracy: 0.9934\n",
            "Epoch 3/10\n",
            "782/782 [==============================] - 3s 4ms/step - loss: 0.0105 - sparse_categorical_accuracy: 0.9966 - val_loss: 0.0237 - val_sparse_categorical_accuracy: 0.9931\n",
            "Epoch 4/10\n",
            "782/782 [==============================] - 3s 4ms/step - loss: 0.0098 - sparse_categorical_accuracy: 0.9970 - val_loss: 0.0276 - val_sparse_categorical_accuracy: 0.9925\n",
            "Epoch 5/10\n",
            "782/782 [==============================] - 3s 4ms/step - loss: 0.0080 - sparse_categorical_accuracy: 0.9973 - val_loss: 0.0387 - val_sparse_categorical_accuracy: 0.9924\n",
            "Epoch 6/10\n",
            "782/782 [==============================] - 3s 4ms/step - loss: 0.0065 - sparse_categorical_accuracy: 0.9980 - val_loss: 0.0351 - val_sparse_categorical_accuracy: 0.9924\n",
            "Epoch 7/10\n",
            "782/782 [==============================] - 3s 4ms/step - loss: 0.0059 - sparse_categorical_accuracy: 0.9982 - val_loss: 0.0483 - val_sparse_categorical_accuracy: 0.9908\n",
            "Epoch 8/10\n",
            "782/782 [==============================] - 3s 4ms/step - loss: 0.0050 - sparse_categorical_accuracy: 0.9982 - val_loss: 0.0497 - val_sparse_categorical_accuracy: 0.9909\n",
            "Epoch 9/10\n",
            "782/782 [==============================] - 4s 4ms/step - loss: 0.0051 - sparse_categorical_accuracy: 0.9984 - val_loss: 0.0567 - val_sparse_categorical_accuracy: 0.9895\n",
            "Epoch 10/10\n",
            "782/782 [==============================] - 3s 4ms/step - loss: 0.0039 - sparse_categorical_accuracy: 0.9988 - val_loss: 0.0626 - val_sparse_categorical_accuracy: 0.9917\n"
          ]
        }
      ]
    },
    {
      "cell_type": "code",
      "metadata": {
        "id": "ThaWPOdPEy0v"
      },
      "source": [
        "#define a method for ploting result\n",
        "def plot_metric(history, metric):\n",
        "    train_metrics = history.history[metric]\n",
        "    val_metrics = history.history['val_'+metric]\n",
        "    epochs = range(1, len(train_metrics) + 1)\n",
        "    plt.plot(epochs, train_metrics, 'bo--')\n",
        "    plt.plot(epochs, val_metrics, 'ro-')\n",
        "    plt.title('Training and validation '+ metric)\n",
        "    plt.xlabel(\"Epochs\")\n",
        "    plt.ylabel(metric)\n",
        "    plt.legend([\"train_\"+metric, 'val_'+metric])\n",
        "    plt.show()"
      ],
      "execution_count": 39,
      "outputs": []
    },
    {
      "cell_type": "code",
      "metadata": {
        "colab": {
          "base_uri": "https://localhost:8080/",
          "height": 295
        },
        "id": "JSc9nREkFA08",
        "outputId": "02c20105-5a64-4596-c9bc-09a6ef4dee45"
      },
      "source": [
        "plot_metric(history, 'sparse_categorical_accuracy')"
      ],
      "execution_count": 40,
      "outputs": [
        {
          "output_type": "display_data",
          "data": {
            "image/png": "[encoded data removed]",
            "text/plain": [
              "<Figure size 432x288 with 1 Axes>"
            ]
          },
          "metadata": {
            "needs_background": "light"
          }
        }
      ]
    },
    {
      "cell_type": "code",
      "metadata": {
        "id": "e33NKTOQFDJe"
      },
      "source": [
        ""
      ],
      "execution_count": null,
      "outputs": []
    }
  ]
}