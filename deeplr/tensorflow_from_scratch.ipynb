{
  "nbformat": 4,
  "nbformat_minor": 0,
  "metadata": {
    "colab": {
      "name": "tensorflow_from_scratch.ipynb",
      "provenance": []
    },
    "kernelspec": {
      "display_name": "Python 3",
      "name": "python3"
    },
    "language_info": {
      "name": "python"
    },
    "accelerator": "TPU"
  },
  "cells": [
    {
      "cell_type": "code",
      "metadata": {
        "id": "SvrIUgzu6BPs"
      },
      "source": [
        "import tensorflow\n",
        "import tensorflow.compat.v1 as tf\n",
        "import numpy as np\n",
        "tf.disable_v2_behavior()"
      ],
      "execution_count": 5,
      "outputs": []
    },
    {
      "cell_type": "code",
      "metadata": {
        "id": "8T2xgiBz6s0K"
      },
      "source": [
        "w = tf.Variable(tf.random_normal_initializer()(shape=(500, 100)))\n",
        "b = tf.Variable(tf.zeros((100,)))\n",
        "x = tf.placeholder(dtype=tf.float32, shape=(None, 500))"
      ],
      "execution_count": 2,
      "outputs": []
    },
    {
      "cell_type": "code",
      "metadata": {
        "id": "X5vlq0Dz8Vet"
      },
      "source": [
        "h = tf.nn.relu(tf.matmul(x, w) + b, name='output')"
      ],
      "execution_count": 3,
      "outputs": []
    },
    {
      "cell_type": "code",
      "metadata": {
        "colab": {
          "base_uri": "https://localhost:8080/"
        },
        "id": "oJ_G9s1b8zYg",
        "outputId": "565926a1-3657-4b4f-8200-591a44b1fd43"
      },
      "source": [
        "print(h)"
      ],
      "execution_count": 4,
      "outputs": [
        {
          "output_type": "stream",
          "name": "stdout",
          "text": [
            "Tensor(\"output:0\", shape=(?, 100), dtype=float32)\n"
          ]
        }
      ]
    },
    {
      "cell_type": "code",
      "metadata": {
        "id": "mH1iFw7m-Ael"
      },
      "source": [
        "with tf.Session() as sess:\n",
        "  init = tf.global_variables_initializer()\n",
        "  sess.run(init)\n",
        "  output = sess.run(h, feed_dict={x: np.random.random((64, 500))})\n"
      ],
      "execution_count": 7,
      "outputs": []
    },
    {
      "cell_type": "code",
      "metadata": {
        "colab": {
          "base_uri": "https://localhost:8080/"
        },
        "id": "HWXIcimG-rJM",
        "outputId": "a024b359-dddb-4cac-a6f8-9b5bca788bdc"
      },
      "source": [
        "print(output)"
      ],
      "execution_count": 8,
      "outputs": [
        {
          "output_type": "stream",
          "name": "stdout",
          "text": [
            "[[ 0.         24.562283   27.365177   ...  0.          0.\n",
            "   0.        ]\n",
            " [ 2.8436794  17.155256   19.693487   ...  0.          0.\n",
            "   0.        ]\n",
            " [13.143931   27.894356   22.953468   ...  0.          0.\n",
            "   0.        ]\n",
            " ...\n",
            " [ 3.656711   22.401886   33.625916   ...  0.          0.\n",
            "   0.        ]\n",
            " [ 0.         32.388756   32.955894   ...  0.          6.683579\n",
            "   0.        ]\n",
            " [ 0.65144444 21.293753   18.908829   ...  0.          0.\n",
            "   6.050187  ]]\n"
          ]
        }
      ]
    }
  ]
}